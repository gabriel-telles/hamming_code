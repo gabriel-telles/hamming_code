{
 "cells": [
  {
   "cell_type": "markdown",
   "metadata": {},
   "source": [
    "## ELE-32 Lab 1 - Código de Hamming"
   ]
  },
  {
   "cell_type": "code",
   "execution_count": 1,
   "metadata": {},
   "outputs": [],
   "source": [
    "import numpy as np"
   ]
  },
  {
   "cell_type": "markdown",
   "metadata": {},
   "source": [
    "### Codificador"
   ]
  },
  {
   "cell_type": "code",
   "execution_count": 2,
   "metadata": {},
   "outputs": [],
   "source": [
    "def hamming_encoder(information_bits, generating_matrix):\n",
    "    matrix = np.remainder(np.matmul(information_bits, generating_matrix), 2)\n",
    "    return np.asarray(matrix).reshape(-1)"
   ]
  },
  {
   "cell_type": "code",
   "execution_count": 3,
   "metadata": {},
   "outputs": [],
   "source": [
    "generating_matrix_47 = np.matrix(  [[1, 0, 0, 0, 1, 1, 1], \n",
    "                                    [0, 1, 0, 0, 1, 0, 1], \n",
    "                                    [0, 0, 1, 0, 1, 1, 0], \n",
    "                                    [0, 0, 0, 1, 0, 1, 1]])"
   ]
  },
  {
   "cell_type": "code",
   "execution_count": 4,
   "metadata": {},
   "outputs": [],
   "source": [
    "parity_matrix_47 = np.matrix([[1, 1, 1],\n",
    "                              [1, 0, 1],\n",
    "                              [1, 1, 0],\n",
    "                              [0, 1, 1],\n",
    "                              [1, 0, 0],\n",
    "                              [0, 1, 0],\n",
    "                              [0, 0, 1],\n",
    "                              ])"
   ]
  },
  {
   "cell_type": "code",
   "execution_count": 5,
   "metadata": {},
   "outputs": [],
   "source": [
    "info1 = np.array([0, 1, 1, 0])"
   ]
  },
  {
   "cell_type": "markdown",
   "metadata": {},
   "source": [
    "### Canal"
   ]
  },
  {
   "cell_type": "code",
   "execution_count": 6,
   "metadata": {},
   "outputs": [],
   "source": [
    "def bsc_channel(bits, p):\n",
    "    bit_error_probas = np.array([np.random.uniform(0, 1) for _ in range(len(bits))])\n",
    "    will_change = np.array([x <= p for x in bit_error_probas])\n",
    "    return bits ^ will_change"
   ]
  },
  {
   "cell_type": "markdown",
   "metadata": {},
   "source": [
    "### Decodificador"
   ]
  },
  {
   "cell_type": "code",
   "execution_count": 7,
   "metadata": {},
   "outputs": [],
   "source": [
    "def error_pattern(parity_matrix):\n",
    "    N = parity_matrix.shape[0]\n",
    "    error_pattern_dict = {}\n",
    "    error_pattern_dict[str(np.array([0, 0, 0]))] = np.zeros(N).astype(int)\n",
    "    for i in range(N):\n",
    "        e = np.zeros(N)\n",
    "        e[i] = 1\n",
    "        s = np.asarray(np.remainder((e @ parity_matrix), 2)).reshape(-1).astype(int)\n",
    "        error_pattern_dict[str(s)] = e.astype(int)\n",
    "    return error_pattern_dict\n"
   ]
  },
  {
   "cell_type": "code",
   "execution_count": 8,
   "metadata": {},
   "outputs": [],
   "source": [
    "def hamming_decoder(message, parity_matrix, error_pattern_dict):\n",
    "    matrix = np.remainder(np.matmul(message, parity_matrix), 2)\n",
    "    s = np.asarray(matrix).reshape(-1) #syndrome\n",
    "    e = error_pattern_dict[str(s)]\n",
    "    return message ^ e\n"
   ]
  },
  {
   "cell_type": "code",
   "execution_count": 9,
   "metadata": {},
   "outputs": [
    {
     "data": {
      "text/plain": [
       "array([0, 1, 1, 0])"
      ]
     },
     "execution_count": 9,
     "metadata": {},
     "output_type": "execute_result"
    }
   ],
   "source": [
    "r = bsc_channel(hamming_encoder(info1, generating_matrix_47), 0.2)\n",
    "my_dict = error_pattern(parity_matrix_47)\n",
    "hamming_decoder(r, parity_matrix_47, my_dict)[0:4]\n"
   ]
  }
 ],
 "metadata": {
  "kernelspec": {
   "display_name": "Python 3",
   "language": "python",
   "name": "python3"
  },
  "language_info": {
   "codemirror_mode": {
    "name": "ipython",
    "version": 3
   },
   "file_extension": ".py",
   "mimetype": "text/x-python",
   "name": "python",
   "nbconvert_exporter": "python",
   "pygments_lexer": "ipython3",
   "version": "3.10.12"
  }
 },
 "nbformat": 4,
 "nbformat_minor": 2
}
