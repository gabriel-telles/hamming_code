{
 "cells": [
  {
   "cell_type": "markdown",
   "metadata": {},
   "source": [
    "## ELE-32 Lab 1 - Código de Hamming"
   ]
  },
  {
   "cell_type": "code",
   "execution_count": 25,
   "metadata": {},
   "outputs": [],
   "source": [
    "import numpy as np\n",
    "from matrices import *\n",
    "from bsc_channel import BSCChannel\n",
    "from hamming_encoder import HammingEncoder\n",
    "from hamming_decoder import HammingDecoder"
   ]
  },
  {
   "cell_type": "code",
   "execution_count": 36,
   "metadata": {},
   "outputs": [
    {
     "name": "stdout",
     "output_type": "stream",
     "text": [
      "original info: [0 1 1 0]\n",
      "encoded info: [0 1 1 0 0 1 1] \n",
      "received info: [0 0 1 0 0 1 1] \n",
      "decoded info: [0 1 1 0]\n"
     ]
    }
   ],
   "source": [
    "channel = BSCChannel(0.1)\n",
    "encoder = HammingEncoder(generating_matrix_47)\n",
    "decoder = HammingDecoder(parity_matrix_47)\n",
    "\n",
    "info = np.array([0, 1, 1, 0])\n",
    "encoded = encoder.encode(info)\n",
    "received = channel.change_bits(encoded)\n",
    "decoded = decoder.decode(received)\n",
    "print(f\"original info: {info}\\nencoded info: {encoded} \\nreceived info: {received} \\ndecoded info: {decoded[0:4]}\")"
   ]
  }
 ],
 "metadata": {
  "kernelspec": {
   "display_name": "Python 3",
   "language": "python",
   "name": "python3"
  },
  "language_info": {
   "codemirror_mode": {
    "name": "ipython",
    "version": 3
   },
   "file_extension": ".py",
   "mimetype": "text/x-python",
   "name": "python",
   "nbconvert_exporter": "python",
   "pygments_lexer": "ipython3",
   "version": "3.11.4"
  }
 },
 "nbformat": 4,
 "nbformat_minor": 2
}
