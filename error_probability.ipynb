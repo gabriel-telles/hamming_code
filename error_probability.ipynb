{
 "cells": [
  {
   "cell_type": "markdown",
   "metadata": {},
   "source": [
    "### Cálculo da probabilidade de erro"
   ]
  },
  {
   "cell_type": "code",
   "execution_count": 31,
   "metadata": {},
   "outputs": [],
   "source": [
    "import os\n",
    "import numpy as np\n",
    "import random\n",
    "from tqdm import tqdm\n",
    "import matplotlib.pyplot as plt\n",
    "from hamming_channel_47 import HammingChannel47"
   ]
  },
  {
   "cell_type": "markdown",
   "metadata": {},
   "source": [
    "#### Código de Hamming"
   ]
  },
  {
   "cell_type": "code",
   "execution_count": 32,
   "metadata": {},
   "outputs": [
    {
     "name": "stdout",
     "output_type": "stream",
     "text": [
      "p = 0.5\n",
      "p = 0.2\n",
      "p = 0.1\n",
      "p = 0.05\n",
      "p = 0.02\n",
      "p = 0.01\n",
      "p = 0.005\n",
      "p = 0.002\n",
      "p = 0.001\n",
      "p = 0.0005\n"
     ]
    },
    {
     "name": "stderr",
     "output_type": "stream",
     "text": [
      "100%|██████████| 250000/250000 [00:26<00:00, 9468.80it/s] \n"
     ]
    },
    {
     "name": "stdout",
     "output_type": "stream",
     "text": [
      "p = 0.0002\n"
     ]
    },
    {
     "name": "stderr",
     "output_type": "stream",
     "text": [
      "100%|██████████| 250000/250000 [00:26<00:00, 9356.44it/s] \n"
     ]
    },
    {
     "name": "stdout",
     "output_type": "stream",
     "text": [
      "p = 0.0001\n"
     ]
    },
    {
     "name": "stderr",
     "output_type": "stream",
     "text": [
      "100%|██████████| 250000/250000 [00:26<00:00, 9447.94it/s] \n"
     ]
    },
    {
     "name": "stdout",
     "output_type": "stream",
     "text": [
      "p = 5e-05\n"
     ]
    },
    {
     "name": "stderr",
     "output_type": "stream",
     "text": [
      "100%|██████████| 250000/250000 [00:25<00:00, 9651.53it/s] \n"
     ]
    },
    {
     "name": "stdout",
     "output_type": "stream",
     "text": [
      "p = 2e-05\n"
     ]
    },
    {
     "name": "stderr",
     "output_type": "stream",
     "text": [
      "100%|██████████| 250000/250000 [00:25<00:00, 9890.61it/s] \n"
     ]
    }
   ],
   "source": [
    "# 1. Escolha um valor de p. Utilize p = 0.5,0.2,0.1,0.05,0.02,0.01,0.005,...\n",
    "ps = [0.5, 0.2, 0.1, 0.05, 0.02, 0.01, 0.005, 0.002, 0.001, 5e-4, 2e-4, 1e-4, 5e-5, 2e-5]\n",
    "bit_values = [0, 1]\n",
    "save_folder = \"./bit_error_results\"\n",
    "if not os.path.exists(save_folder):\n",
    "    os.mkdir(save_folder)\n",
    "\n",
    "for p in ps:\n",
    "    print(f\"p = {p}\")\n",
    "    \n",
    "    # 2. Gere aleatoriamente cerca de 1 milhão de bits de informação\n",
    "    # 3. Divida em grupos de K bits. Haverá L grupos\n",
    "    save_path_original = save_folder + f\"/{p}-hamming-bits-original.npy\"    \n",
    "\n",
    "    if not os.path.isfile(save_path_original):  \n",
    "        random_info_bits = np.array(random.choices(bit_values, weights=[1, 1], k = int(1e6))) \n",
    "        k = 4\n",
    "        original_bits_groups = random_info_bits.reshape(-1, k) \n",
    "        with open(save_path_original, \"wb\") as f:\n",
    "            np.save(f, original_bits_groups)\n",
    "    else:\n",
    "        with open(save_path_original, \"rb\") as f:\n",
    "            original_bits_groups = np.load(f)\n",
    "            \n",
    "    # 4, 5, 6 e 7\n",
    "    save_path_decoded = save_folder + f\"/{p}-hamming-bits-decoded.npy\"\n",
    "\n",
    "    if not os.path.isfile(save_path_decoded):\n",
    "        hamming_channel = HammingChannel47(p)\n",
    "        decoded_bits_groups = []\n",
    "        for i in tqdm(range(original_bits_groups.shape[0])):\n",
    "            decoded_bits_groups.append(hamming_channel.transmit(original_bits_groups[i])) \n",
    "        decoded_bits_groups = np.array(decoded_bits_groups)\n",
    "\n",
    "        with open(save_path_decoded, 'wb') as f:\n",
    "            np.save(f, decoded_bits_groups)\n",
    "\n",
    "    else: \n",
    "        with open(save_path_decoded, \"rb\") as f:\n",
    "            decoded_bits_groups = np.load(f)"
   ]
  },
  {
   "cell_type": "code",
   "execution_count": 33,
   "metadata": {},
   "outputs": [],
   "source": [
    "info_bit_error_probas = []\n",
    "\n",
    "for p in ps:\n",
    "    save_path_original = save_folder + f\"/{p}-hamming-bits-original.npy\"\n",
    "    with open(save_path_original, \"rb\") as f:\n",
    "        original_bits_groups = np.load(f)\n",
    "\n",
    "    save_path_decoded = save_folder + f\"/{p}-hamming-bits-decoded.npy\"\n",
    "    with open(save_path_decoded, \"rb\") as f:\n",
    "        decoded_bits_groups = np.load(f)\n",
    "        \n",
    "    original = original_bits_groups.reshape(-1)\n",
    "    decoded = decoded_bits_groups.reshape(-1)\n",
    "    info_bit_error_proba = np.not_equal(original, decoded).sum()/len(original)\n",
    "    info_bit_error_probas.append(info_bit_error_proba)"
   ]
  },
  {
   "cell_type": "code",
   "execution_count": 34,
   "metadata": {},
   "outputs": [
    {
     "data": {
      "text/plain": [
       "[0.5,\n",
       " 0.2,\n",
       " 0.1,\n",
       " 0.05,\n",
       " 0.02,\n",
       " 0.01,\n",
       " 0.005,\n",
       " 0.002,\n",
       " 0.001,\n",
       " 0.0005,\n",
       " 0.0002,\n",
       " 0.0001,\n",
       " 5e-05,\n",
       " 2e-05]"
      ]
     },
     "execution_count": 34,
     "metadata": {},
     "output_type": "execute_result"
    }
   ],
   "source": [
    "ps"
   ]
  },
  {
   "cell_type": "code",
   "execution_count": 42,
   "metadata": {},
   "outputs": [
    {
     "data": {
      "text/plain": [
       "<matplotlib.legend.Legend at 0x1cc4f60dd10>"
      ]
     },
     "execution_count": 42,
     "metadata": {},
     "output_type": "execute_result"
    },
    {
     "data": {
      "image/png": "[encoded data removed]",
      "text/plain": [
       "<Figure size 640x480 with 1 Axes>"
      ]
     },
     "metadata": {},
     "output_type": "display_data"
    }
   ],
   "source": [
    "fig, ax = plt.subplots(1, 1)\n",
    "ax.plot(ps, info_bit_error_probas, color=\"darkblue\")\n",
    "ax.invert_xaxis()\n",
    "ax.grid()\n",
    "ax.set_title(\"Info bit probability versus p\")\n",
    "ax.set_xlabel(\"p\")\n",
    "ax.set_ylabel(\"pb\")\n",
    "\n",
    "n = [0.5, 0.4, 0.3, 0.2, 0.1, 0]\n",
    "ax.plot(n, n, color = \"red\", linestyle=\"--\", linewidth=0.6)\n",
    "\n",
    "ax.legend([\"Hamming\", \"No Encoding\"])"
   ]
  },
  {
   "cell_type": "code",
   "execution_count": null,
   "metadata": {},
   "outputs": [],
   "source": []
  }
 ],
 "metadata": {
  "kernelspec": {
   "display_name": "data-science",
   "language": "python",
   "name": "python3"
  },
  "language_info": {
   "codemirror_mode": {
    "name": "ipython",
    "version": 3
   },
   "file_extension": ".py",
   "mimetype": "text/x-python",
   "name": "python",
   "nbconvert_exporter": "python",
   "pygments_lexer": "ipython3",
   "version": "3.11.4"
  }
 },
 "nbformat": 4,
 "nbformat_minor": 2
}
