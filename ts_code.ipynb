{
 "cells": [
  {
   "cell_type": "markdown",
   "metadata": {},
   "source": [
    "# ELE-32 Lab 1 - Implementação própria"
   ]
  },
  {
   "cell_type": "code",
   "execution_count": 11,
   "metadata": {},
   "outputs": [
    {
     "name": "stdout",
     "output_type": "stream",
     "text": [
      "[0 0 1 0 0 1 1 1 0 0 0 1 1 0 0 0 0]\n",
      "[0 0 0 0 0 1 1 1 0 0 0 1 1 0 0 0 0]\n",
      "[0 0 1 0 0 1 1 1 0]\n"
     ]
    }
   ],
   "source": [
    "import numpy as np\n",
    "from ts_encoder import TSEncoder\n",
    "from bsc_channel import BSCChannel\n",
    "from ts_decoder import TSDecoder\n",
    "from utils import *\n",
    "\n",
    "message = np.array([0, 0, 1, 0, 0, 1, 1, 1, 0])\n",
    "\n",
    "encoder = TSEncoder()\n",
    "channel = BSCChannel(0.05)\n",
    "decoder = TSDecoder()\n",
    "\n",
    "encoded = encoder.encode(message)\n",
    "received = channel.change_bits(encoded)\n",
    "decoded = decoder.decode(received)\n",
    "\n",
    "\n",
    "print(encoded)\n",
    "print(received)\n",
    "print(decoded)"
   ]
  },
  {
   "cell_type": "code",
   "execution_count": 3,
   "metadata": {},
   "outputs": [
    {
     "data": {
      "text/plain": [
       "16"
      ]
     },
     "execution_count": 3,
     "metadata": {},
     "output_type": "execute_result"
    }
   ],
   "source": [
    "78%31"
   ]
  }
 ],
 "metadata": {
  "kernelspec": {
   "display_name": "Python 3",
   "language": "python",
   "name": "python3"
  },
  "language_info": {
   "codemirror_mode": {
    "name": "ipython",
    "version": 3
   },
   "file_extension": ".py",
   "mimetype": "text/x-python",
   "name": "python",
   "nbconvert_exporter": "python",
   "pygments_lexer": "ipython3",
   "version": "3.10.12"
  }
 },
 "nbformat": 4,
 "nbformat_minor": 2
}
