{
 "cells": [
  {
   "cell_type": "markdown",
   "metadata": {},
   "source": [
    "### All Code Comparison"
   ]
  },
  {
   "cell_type": "code",
   "execution_count": 1,
   "metadata": {},
   "outputs": [],
   "source": [
    "import os\n",
    "import numpy as np\n",
    "import random\n",
    "from tqdm import tqdm\n",
    "import matplotlib.pyplot as plt\n",
    "from utils import *\n",
    "from hamming_channel_47 import HammingChannel47\n",
    "from ldpc_channel import LdpcChannel\n",
    "import matplotlib.pyplot as plt\n",
    "import pickle\n",
    "from ldpc_bpsk_gaussian_system import LdpcBpskGaussianSystem"
   ]
  },
  {
   "cell_type": "markdown",
   "metadata": {},
   "source": [
    "#### Hamming"
   ]
  },
  {
   "cell_type": "code",
   "execution_count": 2,
   "metadata": {},
   "outputs": [
    {
     "name": "stdout",
     "output_type": "stream",
     "text": [
      "p = 0.14252470370130643\n"
     ]
    },
    {
     "name": "stderr",
     "output_type": "stream",
     "text": [
      "100%|██████████| 250000/250000 [00:24<00:00, 10120.35it/s]\n"
     ]
    },
    {
     "name": "stdout",
     "output_type": "stream",
     "text": [
      "p = 0.12873528209043172\n"
     ]
    },
    {
     "name": "stderr",
     "output_type": "stream",
     "text": [
      "100%|██████████| 250000/250000 [00:23<00:00, 10658.13it/s]\n"
     ]
    },
    {
     "name": "stdout",
     "output_type": "stream",
     "text": [
      "p = 0.11516908862773423\n"
     ]
    },
    {
     "name": "stderr",
     "output_type": "stream",
     "text": [
      "100%|██████████| 250000/250000 [00:23<00:00, 10597.27it/s]\n"
     ]
    },
    {
     "name": "stdout",
     "output_type": "stream",
     "text": [
      "p = 0.10194219854208608\n"
     ]
    },
    {
     "name": "stderr",
     "output_type": "stream",
     "text": [
      "100%|██████████| 250000/250000 [00:23<00:00, 10605.30it/s]\n"
     ]
    },
    {
     "name": "stdout",
     "output_type": "stream",
     "text": [
      "p = 0.0891757908458275\n"
     ]
    },
    {
     "name": "stderr",
     "output_type": "stream",
     "text": [
      "100%|██████████| 250000/250000 [00:23<00:00, 10544.78it/s]\n"
     ]
    },
    {
     "name": "stdout",
     "output_type": "stream",
     "text": [
      "p = 0.07699273024700704\n"
     ]
    },
    {
     "name": "stderr",
     "output_type": "stream",
     "text": [
      "100%|██████████| 250000/250000 [00:23<00:00, 10546.32it/s]\n"
     ]
    },
    {
     "name": "stdout",
     "output_type": "stream",
     "text": [
      "p = 0.06551327242683047\n"
     ]
    },
    {
     "name": "stderr",
     "output_type": "stream",
     "text": [
      "100%|██████████| 250000/250000 [00:23<00:00, 10574.92it/s]\n"
     ]
    },
    {
     "name": "stdout",
     "output_type": "stream",
     "text": [
      "p = 0.05484997901513444\n"
     ]
    },
    {
     "name": "stderr",
     "output_type": "stream",
     "text": [
      "100%|██████████| 250000/250000 [00:23<00:00, 10495.84it/s]\n"
     ]
    },
    {
     "name": "stdout",
     "output_type": "stream",
     "text": [
      "p = 0.04510204743362156\n"
     ]
    },
    {
     "name": "stderr",
     "output_type": "stream",
     "text": [
      "100%|██████████| 250000/250000 [00:23<00:00, 10506.82it/s]\n"
     ]
    },
    {
     "name": "stdout",
     "output_type": "stream",
     "text": [
      "p = 0.03634940131838471\n"
     ]
    },
    {
     "name": "stderr",
     "output_type": "stream",
     "text": [
      "100%|██████████| 250000/250000 [00:23<00:00, 10552.60it/s]\n"
     ]
    },
    {
     "name": "stdout",
     "output_type": "stream",
     "text": [
      "p = 0.028647034206930377\n"
     ]
    },
    {
     "name": "stderr",
     "output_type": "stream",
     "text": [
      "100%|██████████| 250000/250000 [00:24<00:00, 10238.04it/s]\n"
     ]
    },
    {
     "name": "stdout",
     "output_type": "stream",
     "text": [
      "p = 0.022020226921702468\n"
     ]
    },
    {
     "name": "stderr",
     "output_type": "stream",
     "text": [
      "100%|██████████| 250000/250000 [00:23<00:00, 10426.30it/s]\n"
     ]
    },
    {
     "name": "stdout",
     "output_type": "stream",
     "text": [
      "p = 0.016461332099899972\n"
     ]
    },
    {
     "name": "stderr",
     "output_type": "stream",
     "text": [
      "100%|██████████| 250000/250000 [00:23<00:00, 10519.75it/s]\n"
     ]
    },
    {
     "name": "stdout",
     "output_type": "stream",
     "text": [
      "p = 0.011928796627787897\n"
     ]
    },
    {
     "name": "stderr",
     "output_type": "stream",
     "text": [
      "100%|██████████| 250000/250000 [00:23<00:00, 10546.74it/s]\n"
     ]
    },
    {
     "name": "stdout",
     "output_type": "stream",
     "text": [
      "p = 0.008348937375587728\n"
     ]
    },
    {
     "name": "stderr",
     "output_type": "stream",
     "text": [
      "100%|██████████| 250000/250000 [00:23<00:00, 10552.59it/s]\n"
     ]
    },
    {
     "name": "stdout",
     "output_type": "stream",
     "text": [
      "p = 0.005620679255335825\n"
     ]
    },
    {
     "name": "stderr",
     "output_type": "stream",
     "text": [
      "100%|██████████| 250000/250000 [00:23<00:00, 10594.22it/s]\n"
     ]
    },
    {
     "name": "stdout",
     "output_type": "stream",
     "text": [
      "p = 0.0036230245557679064\n"
     ]
    },
    {
     "name": "stderr",
     "output_type": "stream",
     "text": [
      "100%|██████████| 250000/250000 [00:23<00:00, 10632.15it/s]\n"
     ]
    },
    {
     "name": "stdout",
     "output_type": "stream",
     "text": [
      "p = 0.0022245149617428073\n"
     ]
    },
    {
     "name": "stderr",
     "output_type": "stream",
     "text": [
      "100%|██████████| 250000/250000 [00:23<00:00, 10593.08it/s]\n"
     ]
    },
    {
     "name": "stdout",
     "output_type": "stream",
     "text": [
      "p = 0.0012934879727222182\n"
     ]
    },
    {
     "name": "stderr",
     "output_type": "stream",
     "text": [
      "100%|██████████| 250000/250000 [00:23<00:00, 10544.92it/s]\n"
     ]
    },
    {
     "name": "stdout",
     "output_type": "stream",
     "text": [
      "p = 0.0007076603075836241\n"
     ]
    },
    {
     "name": "stderr",
     "output_type": "stream",
     "text": [
      "100%|██████████| 250000/250000 [00:23<00:00, 10534.05it/s]\n"
     ]
    },
    {
     "name": "stdout",
     "output_type": "stream",
     "text": [
      "p = 0.00036161635821507776\n"
     ]
    },
    {
     "name": "stderr",
     "output_type": "stream",
     "text": [
      "100%|██████████| 250000/250000 [00:23<00:00, 10593.20it/s]\n"
     ]
    }
   ],
   "source": [
    "# 1. Escolha um valor de p. Utilize p = 0.5,0.2,0.1,0.05,0.02,0.01,0.005,...\n",
    "\n",
    "snrs_db = np.arange(0, 10.5, 0.5) \n",
    "ps = []\n",
    "R = 4/7\n",
    "for snr_db in snrs_db:\n",
    "    ps.append(Ei_N0_to_p(snr_db, R)) \n",
    "    \n",
    "bit_values = [0, 1]\n",
    "save_folder = \"./bit_error_results\"\n",
    "if not os.path.exists(save_folder):\n",
    "    os.mkdir(save_folder)\n",
    "method = \"hamming\"\n",
    "for p in ps:\n",
    "    print(f\"p = {p}\")\n",
    "    \n",
    "    # 2. Gere aleatoriamente cerca de 1 milhão de bits de informação\n",
    "    # 3. Divida em grupos de K bits. Haverá L grupos\n",
    "    save_path_original = save_folder + f\"/{p}-{method}-bits-original.npy\"    \n",
    "\n",
    "    if not os.path.isfile(save_path_original):  \n",
    "        random_info_bits = np.array(random.choices(bit_values, weights=[1, 1], k = int(1e6))) \n",
    "        k = 4\n",
    "        original_bits_groups = random_info_bits.reshape(-1, k) \n",
    "        with open(save_path_original, \"wb\") as f:\n",
    "            np.save(f, original_bits_groups)\n",
    "    else:\n",
    "        with open(save_path_original, \"rb\") as f:\n",
    "            original_bits_groups = np.load(f)\n",
    "            \n",
    "    # 4: Gere as L palavras-código correspondentes a cada um dos grupos do item 3\n",
    "    # 5: Simule o efeito do canal BSC trocando o valor dos bits das palavras código do item anterior \n",
    "    # com probabilidade p para todos os bits de todas as L palavras-código, gerando assim L palavras recebidas.\n",
    "    # 6: Realize o processo de detecção por síndrome para cada uma das L palavras recebidas.\n",
    "    # 7: Realize o processo de estimação sobre os bits de informação.\n",
    "    save_path_decoded = save_folder + f\"/{p}-{method}-bits-decoded.npy\"\n",
    "\n",
    "    if not os.path.isfile(save_path_decoded):\n",
    "        hamming_channel = HammingChannel47(p)\n",
    "        decoded_bits_groups = []\n",
    "        for i in tqdm(range(original_bits_groups.shape[0])):\n",
    "            decoded_bits_groups.append(hamming_channel.transmit(original_bits_groups[i])) \n",
    "        decoded_bits_groups = np.array(decoded_bits_groups)\n",
    "        with open(save_path_decoded, 'wb') as f:\n",
    "            np.save(f, decoded_bits_groups)\n",
    "    else: \n",
    "        with open(save_path_decoded, \"rb\") as f:\n",
    "            decoded_bits_groups = np.load(f)"
   ]
  },
  {
   "cell_type": "code",
   "execution_count": 3,
   "metadata": {},
   "outputs": [],
   "source": [
    "save_folder = \"./bit_error_results\"\n",
    "info_bit_error_probas = []\n",
    "\n",
    "for p in ps:\n",
    "    save_path_original = save_folder + f\"/{p}-{method}-bits-original.npy\"\n",
    "    with open(save_path_original, \"rb\") as f:\n",
    "        original_bits_groups = np.load(f)\n",
    "\n",
    "    save_path_decoded = save_folder + f\"/{p}-{method}-bits-decoded.npy\"\n",
    "    with open(save_path_decoded, \"rb\") as f:\n",
    "        decoded_bits_groups = np.load(f)\n",
    "        \n",
    "    original = original_bits_groups.reshape(-1)\n",
    "    decoded = decoded_bits_groups.reshape(-1)\n",
    "    info_bit_error_proba = np.not_equal(original, decoded).sum()/len(original)\n",
    "    info_bit_error_probas.append(info_bit_error_proba)"
   ]
  },
  {
   "cell_type": "code",
   "execution_count": 4,
   "metadata": {},
   "outputs": [],
   "source": [
    "hamming_errors = info_bit_error_probas"
   ]
  },
  {
   "cell_type": "code",
   "execution_count": 5,
   "metadata": {},
   "outputs": [
    {
     "data": {
      "text/plain": [
       "[0.119098,\n",
       " 0.101465,\n",
       " 0.084729,\n",
       " 0.068658,\n",
       " 0.055317,\n",
       " 0.042901,\n",
       " 0.032453,\n",
       " 0.022871,\n",
       " 0.01598,\n",
       " 0.010913,\n",
       " 0.006784,\n",
       " 0.003982,\n",
       " 0.002243,\n",
       " 0.001206,\n",
       " 0.000614,\n",
       " 0.000249,\n",
       " 0.000126,\n",
       " 4.6e-05,\n",
       " 1.5e-05,\n",
       " 6e-06,\n",
       " 2e-06]"
      ]
     },
     "execution_count": 5,
     "metadata": {},
     "output_type": "execute_result"
    }
   ],
   "source": [
    "hamming_errors"
   ]
  },
  {
   "cell_type": "markdown",
   "metadata": {},
   "source": [
    "### LDPC - Bit Flipping"
   ]
  },
  {
   "cell_type": "code",
   "execution_count": 6,
   "metadata": {},
   "outputs": [],
   "source": [
    "#4/7 Rate\n",
    "rate=\"4/7\"\n",
    "save_folder = \"./bit_error_results_47\"\n",
    "hamming=False\n",
    "dv=3\n",
    "dc=7\n",
    "N_values=[1001]\n",
    "snrs_db = np.arange(0, 10.5, 0.5) \n",
    "ps = []\n",
    "R = 4/7\n",
    "for snr_db in snrs_db:\n",
    "    ps.append(Ei_N0_to_p(snr_db, R)) "
   ]
  },
  {
   "cell_type": "code",
   "execution_count": 7,
   "metadata": {},
   "outputs": [],
   "source": [
    "def generate_groups(N, N_bits, ps):\n",
    "    \"\"\"\n",
    "    dv = 3 # número de ramos que saem de cada v-node para a camada CND = número de 1s nas colunas\n",
    "    dc = 7 # número de ramos que saem de cada c-node para a camada VND = número de 1s nas linhas\n",
    "    N = 98 # tamanho da palavra código\n",
    "    \"\"\"\n",
    "    n_groups = int(N_bits/N)\n",
    "    if not os.path.exists(save_folder):\n",
    "        os.mkdir(save_folder)\n",
    "    method = \"ldpc\"\n",
    "\n",
    "    for p in ps:\n",
    "        save_path_original = save_folder + f\"/{N}-{p}-{method}-bits-original.npy\"    \n",
    "\n",
    "        if not os.path.isfile(save_path_original):  \n",
    "            original_bits_groups = np.zeros((1, N_bits)).reshape(-1, N) \n",
    "            with open(save_path_original, \"wb\") as f:\n",
    "                np.save(f, original_bits_groups)\n",
    "\n",
    "        save_path_decoded = save_folder + f\"/{N}-{p}-{method}-bits-decoded.npy\"\n",
    "        if not os.path.isfile(save_path_decoded):\n",
    "            print(f\"p = {p}\")\n",
    "            ldpc_channel = LdpcChannel(p, dv, dc, N, iterations=100)\n",
    "            decoded_bits_groups = []\n",
    "            for i in tqdm(range(n_groups)):\n",
    "                decoded_bits_groups.append(ldpc_channel.transmit()) \n",
    "            decoded_bits_groups = np.array(decoded_bits_groups)\n",
    "            with open(save_path_decoded, 'wb') as f:\n",
    "                np.save(f, decoded_bits_groups)\n",
    "        else: \n",
    "            with open(save_path_decoded, \"rb\") as f:\n",
    "                decoded_bits_groups = np.load(f)\n",
    "\n",
    "def get_info_bit_error_probas(N, ps):\n",
    "    method = \"ldpc\"\n",
    "    info_bit_error_probas = []\n",
    "\n",
    "    for p in ps:\n",
    "        save_path_original = save_folder + f\"/{N}-{p}-{method}-bits-original.npy\"\n",
    "        with open(save_path_original, \"rb\") as f:\n",
    "            original_bits_groups = np.load(f)\n",
    "\n",
    "        save_path_decoded = save_folder + f\"/{N}-{p}-{method}-bits-decoded.npy\"\n",
    "        with open(save_path_decoded, \"rb\") as f:\n",
    "            decoded_bits_groups = np.load(f)\n",
    "            \n",
    "        original = original_bits_groups.reshape(-1)\n",
    "        decoded = decoded_bits_groups.reshape(-1)\n",
    "        info_bit_error_proba = np.not_equal(original, decoded).sum()/len(original)\n",
    "        info_bit_error_probas.append(info_bit_error_proba)\n",
    "        \n",
    "    return info_bit_error_probas\n",
    "\n",
    "def get_probas_list_ldpc(N_values, ps):\n",
    "    \n",
    "    if hamming:\n",
    "        info_bit_error_probas_hamming = []\n",
    "        method = \"hamming\"\n",
    "\n",
    "        for p in ps:\n",
    "            save_path_original = save_folder + f\"/{p}-{method}-bits-original.npy\"\n",
    "            with open(save_path_original, \"rb\") as f:\n",
    "                original_bits_groups = np.load(f)\n",
    "\n",
    "            save_path_decoded = save_folder + f\"/{p}-{method}-bits-decoded.npy\"\n",
    "            with open(save_path_decoded, \"rb\") as f:\n",
    "                decoded_bits_groups = np.load(f)\n",
    "                \n",
    "            original = original_bits_groups.reshape(-1)\n",
    "            decoded = decoded_bits_groups.reshape(-1)\n",
    "            info_bit_error_proba = np.not_equal(original, decoded).sum()/len(original)\n",
    "            info_bit_error_probas_hamming.append(info_bit_error_proba)\n",
    "    \n",
    "    probas_list = []\n",
    "    \n",
    "    for N in N_values:\n",
    "        generate_groups(N=N, N_bits=N*1000, ps=ps)\n",
    "        info_bit_error_probas = get_info_bit_error_probas(N=N, ps=ps)\n",
    "        for i in range(len(info_bit_error_probas) - 1):\n",
    "            if(info_bit_error_probas[i] == 0 and info_bit_error_probas[i+1] > 0):\n",
    "                info_bit_error_probas[i+1] = 0\n",
    "        probas_list.append(info_bit_error_probas)\n",
    "    \n",
    "    return probas_list"
   ]
  },
  {
   "cell_type": "code",
   "execution_count": 8,
   "metadata": {},
   "outputs": [
    {
     "name": "stdout",
     "output_type": "stream",
     "text": [
      "p = 0.14252470370130643\n"
     ]
    },
    {
     "name": "stderr",
     "output_type": "stream",
     "text": [
      "100%|██████████| 1000/1000 [01:30<00:00, 11.08it/s]\n"
     ]
    },
    {
     "name": "stdout",
     "output_type": "stream",
     "text": [
      "p = 0.12873528209043172\n"
     ]
    },
    {
     "name": "stderr",
     "output_type": "stream",
     "text": [
      "100%|██████████| 1000/1000 [01:29<00:00, 11.14it/s]\n"
     ]
    },
    {
     "name": "stdout",
     "output_type": "stream",
     "text": [
      "p = 0.11516908862773423\n"
     ]
    },
    {
     "name": "stderr",
     "output_type": "stream",
     "text": [
      "100%|██████████| 1000/1000 [01:29<00:00, 11.22it/s]\n"
     ]
    },
    {
     "name": "stdout",
     "output_type": "stream",
     "text": [
      "p = 0.10194219854208608\n"
     ]
    },
    {
     "name": "stderr",
     "output_type": "stream",
     "text": [
      "100%|██████████| 1000/1000 [01:28<00:00, 11.32it/s]\n"
     ]
    },
    {
     "name": "stdout",
     "output_type": "stream",
     "text": [
      "p = 0.0891757908458275\n"
     ]
    },
    {
     "name": "stderr",
     "output_type": "stream",
     "text": [
      "100%|██████████| 1000/1000 [01:27<00:00, 11.43it/s]\n"
     ]
    },
    {
     "name": "stdout",
     "output_type": "stream",
     "text": [
      "p = 0.07699273024700704\n"
     ]
    },
    {
     "name": "stderr",
     "output_type": "stream",
     "text": [
      "100%|██████████| 1000/1000 [01:26<00:00, 11.54it/s]\n"
     ]
    },
    {
     "name": "stdout",
     "output_type": "stream",
     "text": [
      "p = 0.06551327242683047\n"
     ]
    },
    {
     "name": "stderr",
     "output_type": "stream",
     "text": [
      "100%|██████████| 1000/1000 [01:25<00:00, 11.67it/s]\n"
     ]
    },
    {
     "name": "stdout",
     "output_type": "stream",
     "text": [
      "p = 0.05484997901513444\n"
     ]
    },
    {
     "name": "stderr",
     "output_type": "stream",
     "text": [
      "100%|██████████| 1000/1000 [01:24<00:00, 11.84it/s]\n"
     ]
    },
    {
     "name": "stdout",
     "output_type": "stream",
     "text": [
      "p = 0.04510204743362156\n"
     ]
    },
    {
     "name": "stderr",
     "output_type": "stream",
     "text": [
      "100%|██████████| 1000/1000 [01:24<00:00, 11.85it/s]\n"
     ]
    },
    {
     "name": "stdout",
     "output_type": "stream",
     "text": [
      "p = 0.03634940131838471\n"
     ]
    },
    {
     "name": "stderr",
     "output_type": "stream",
     "text": [
      "100%|██████████| 1000/1000 [01:17<00:00, 12.91it/s]\n"
     ]
    },
    {
     "name": "stdout",
     "output_type": "stream",
     "text": [
      "p = 0.028647034206930377\n"
     ]
    },
    {
     "name": "stderr",
     "output_type": "stream",
     "text": [
      "100%|██████████| 1000/1000 [01:01<00:00, 16.32it/s]\n"
     ]
    },
    {
     "name": "stdout",
     "output_type": "stream",
     "text": [
      "p = 0.022020226921702468\n"
     ]
    },
    {
     "name": "stderr",
     "output_type": "stream",
     "text": [
      "100%|██████████| 1000/1000 [00:44<00:00, 22.49it/s]\n"
     ]
    },
    {
     "name": "stdout",
     "output_type": "stream",
     "text": [
      "p = 0.016461332099899972\n"
     ]
    },
    {
     "name": "stderr",
     "output_type": "stream",
     "text": [
      "100%|██████████| 1000/1000 [00:29<00:00, 33.57it/s]\n"
     ]
    },
    {
     "name": "stdout",
     "output_type": "stream",
     "text": [
      "p = 0.011928796627787897\n"
     ]
    },
    {
     "name": "stderr",
     "output_type": "stream",
     "text": [
      "100%|██████████| 1000/1000 [00:19<00:00, 50.77it/s]\n"
     ]
    },
    {
     "name": "stdout",
     "output_type": "stream",
     "text": [
      "p = 0.008348937375587728\n"
     ]
    },
    {
     "name": "stderr",
     "output_type": "stream",
     "text": [
      "100%|██████████| 1000/1000 [00:12<00:00, 82.73it/s]\n"
     ]
    },
    {
     "name": "stdout",
     "output_type": "stream",
     "text": [
      "p = 0.005620679255335825\n"
     ]
    },
    {
     "name": "stderr",
     "output_type": "stream",
     "text": [
      "100%|██████████| 1000/1000 [00:10<00:00, 99.45it/s]\n"
     ]
    },
    {
     "name": "stdout",
     "output_type": "stream",
     "text": [
      "p = 0.0036230245557679064\n"
     ]
    },
    {
     "name": "stderr",
     "output_type": "stream",
     "text": [
      "100%|██████████| 1000/1000 [00:06<00:00, 149.70it/s]\n"
     ]
    },
    {
     "name": "stdout",
     "output_type": "stream",
     "text": [
      "p = 0.0022245149617428073\n"
     ]
    },
    {
     "name": "stderr",
     "output_type": "stream",
     "text": [
      "100%|██████████| 1000/1000 [00:05<00:00, 192.36it/s]\n"
     ]
    },
    {
     "name": "stdout",
     "output_type": "stream",
     "text": [
      "p = 0.0012934879727222182\n"
     ]
    },
    {
     "name": "stderr",
     "output_type": "stream",
     "text": [
      "100%|██████████| 1000/1000 [00:04<00:00, 222.44it/s]\n"
     ]
    },
    {
     "name": "stdout",
     "output_type": "stream",
     "text": [
      "p = 0.0007076603075836241\n"
     ]
    },
    {
     "name": "stderr",
     "output_type": "stream",
     "text": [
      "100%|██████████| 1000/1000 [00:03<00:00, 270.41it/s]\n"
     ]
    },
    {
     "name": "stdout",
     "output_type": "stream",
     "text": [
      "p = 0.00036161635821507776\n"
     ]
    },
    {
     "name": "stderr",
     "output_type": "stream",
     "text": [
      "100%|██████████| 1000/1000 [00:03<00:00, 282.69it/s]\n"
     ]
    }
   ],
   "source": [
    "ldpc_bitflipping_errors = get_probas_list_ldpc(N_values, ps)"
   ]
  },
  {
   "cell_type": "code",
   "execution_count": 9,
   "metadata": {},
   "outputs": [
    {
     "data": {
      "text/plain": [
       "[0.19223576423576424,\n",
       " 0.17645754245754247,\n",
       " 0.15903596403596404,\n",
       " 0.1407982017982018,\n",
       " 0.11982717282717283,\n",
       " 0.09834965034965035,\n",
       " 0.07655744255744255,\n",
       " 0.05348951048951049,\n",
       " 0.032655344655344656,\n",
       " 0.0177022977022977,\n",
       " 0.007581418581418581,\n",
       " 0.0025994005994005994,\n",
       " 0.0009660339660339661,\n",
       " 0.0003956043956043956,\n",
       " 0.00011588411588411588,\n",
       " 0.0001018981018981019,\n",
       " 1.3986013986013986e-05,\n",
       " 5.994005994005994e-06,\n",
       " 1.1988011988011987e-05,\n",
       " 0.0,\n",
       " 0.0]"
      ]
     },
     "execution_count": 9,
     "metadata": {},
     "output_type": "execute_result"
    }
   ],
   "source": [
    "ldpc_bitflipping_errors = ldpc_bitflipping_errors[0]\n",
    "ldpc_bitflipping_errors"
   ]
  },
  {
   "cell_type": "markdown",
   "metadata": {},
   "source": [
    "### LDPC - Belief Propagation"
   ]
  },
  {
   "cell_type": "code",
   "execution_count": 41,
   "metadata": {},
   "outputs": [
    {
     "name": "stderr",
     "output_type": "stream",
     "text": [
      "100%|██████████| 50/50 [05:16<00:00,  6.33s/it]\n",
      "100%|██████████| 50/50 [05:07<00:00,  6.14s/it]\n",
      "100%|██████████| 50/50 [04:49<00:00,  5.79s/it]\n",
      "100%|██████████| 50/50 [04:41<00:00,  5.62s/it]\n",
      "100%|██████████| 50/50 [04:47<00:00,  5.75s/it]\n",
      "100%|██████████| 50/50 [04:44<00:00,  5.69s/it]\n",
      "100%|██████████| 50/50 [04:19<00:00,  5.19s/it]\n",
      "100%|██████████| 50/50 [04:08<00:00,  4.98s/it]\n",
      "100%|██████████| 50/50 [02:50<00:00,  3.41s/it]\n",
      "100%|██████████| 50/50 [02:32<00:00,  3.04s/it]\n",
      "100%|██████████| 50/50 [01:37<00:00,  1.94s/it]\n",
      "100%|██████████| 50/50 [01:22<00:00,  1.65s/it]\n",
      "100%|██████████| 50/50 [01:18<00:00,  1.57s/it]\n",
      "100%|██████████| 50/50 [01:05<00:00,  1.30s/it]\n",
      "100%|██████████| 50/50 [00:47<00:00,  1.05it/s]\n",
      "100%|██████████| 50/50 [00:44<00:00,  1.11it/s]\n",
      "100%|██████████| 50/50 [00:41<00:00,  1.21it/s]\n",
      "100%|██████████| 50/50 [00:36<00:00,  1.37it/s]\n",
      "100%|██████████| 50/50 [00:34<00:00,  1.43it/s]\n",
      "100%|██████████| 50/50 [00:31<00:00,  1.56it/s]\n",
      "100%|██████████| 50/50 [00:27<00:00,  1.83it/s]\n",
      "100%|██████████| 50/50 [00:26<00:00,  1.92it/s]\n"
     ]
    }
   ],
   "source": [
    "N = 1001\n",
    "n_groups = 50\n",
    "N_bits = N * n_groups\n",
    "dv = 3\n",
    "dc = 7 \n",
    "max_iter = 30\n",
    "Eb = 1\n",
    "R = 1 - dv/dc\n",
    "snr_db_values_Ei = np.arange(0, 5.5, 0.25)\n",
    "snr_db_values_Eb = [Ei_snr_db_to_Eb_snr_db(i, R) for i in snr_db_values_Ei]\n",
    "N0_values = [N0_from_db_value(i, Eb) for i in snr_db_values_Eb]\n",
    "original = np.zeros(N_bits)\n",
    "info_bit_error_probas = []\n",
    "uncoded_info_bit_error_probas = []\n",
    "\n",
    "if not os.path.isfile(\"ldpc_belief_errors.pkl\"):\n",
    "    for N0 in N0_values:\n",
    "        system = LdpcBpskGaussianSystem(N0, Eb, dv, dc, N, max_iter)\n",
    "        decoded_bits_groups = []\n",
    "        uncoded_bits_groups = []\n",
    "        for i in tqdm(range(n_groups)):\n",
    "            decoded_bits_groups.append(system.apply_noise_and_decode()) \n",
    "            uncoded_bits_groups.append(system.get_uncoded_bits())\n",
    "        decoded_bits_groups = np.array(decoded_bits_groups)\n",
    "        uncoded_bits_groups = np.array(uncoded_bits_groups)\n",
    "        decoded = decoded_bits_groups.reshape(-1)\n",
    "        uncoded = uncoded_bits_groups.reshape(-1)\n",
    "        info_bit_error_proba = np.not_equal(original, decoded).sum()/len(original)\n",
    "        info_bit_error_probas.append(info_bit_error_proba)\n",
    "        uncoded_info_bit_error_proba = np.not_equal(original, uncoded).sum()/len(original)\n",
    "        uncoded_info_bit_error_probas.append(uncoded_info_bit_error_proba)\n",
    "        \n",
    "    ldpc_belief_errors = info_bit_error_probas\n",
    "    with open (\"ldpc_belief_errors.pkl\", \"wb\") as f:\n",
    "        pickle.dump(ldpc_belief_errors, f)\n",
    "else:\n",
    "    with open(\"ldpc_belief_errors.pkl\", \"rb\") as f:\n",
    "        ldpc_belief_errors = pickle.load(f)"
   ]
  },
  {
   "cell_type": "code",
   "execution_count": 44,
   "metadata": {},
   "outputs": [
    {
     "data": {
      "text/plain": [
       "[0.1319080919080919,\n",
       " 0.12445554445554445,\n",
       " 0.11468531468531469,\n",
       " 0.10511488511488512,\n",
       " 0.09012987012987013,\n",
       " 0.07644355644355644,\n",
       " 0.0582017982017982,\n",
       " 0.04061938061938062,\n",
       " 0.008471528471528472,\n",
       " 0.006833166833166833,\n",
       " 0.00023976023976023976,\n",
       " 0.0,\n",
       " 0.0,\n",
       " 0.0,\n",
       " 0.0,\n",
       " 0.0,\n",
       " 0.0,\n",
       " 0.0,\n",
       " 0.0,\n",
       " 0.0,\n",
       " 0.0,\n",
       " 0.0]"
      ]
     },
     "execution_count": 44,
     "metadata": {},
     "output_type": "execute_result"
    }
   ],
   "source": [
    "ldpc_belief_errors"
   ]
  },
  {
   "cell_type": "markdown",
   "metadata": {},
   "source": [
    "### New LDPC - Belief Propagation"
   ]
  },
  {
   "cell_type": "code",
   "execution_count": 62,
   "metadata": {},
   "outputs": [
    {
     "name": "stderr",
     "output_type": "stream",
     "text": [
      "100%|██████████| 50/50 [06:31<00:00,  7.82s/it]\n",
      "100%|██████████| 50/50 [06:38<00:00,  7.96s/it]\n",
      "100%|██████████| 50/50 [06:23<00:00,  7.66s/it]\n",
      "100%|██████████| 50/50 [06:26<00:00,  7.73s/it]\n",
      "100%|██████████| 50/50 [06:36<00:00,  7.92s/it]\n",
      "100%|██████████| 50/50 [06:16<00:00,  7.53s/it]\n",
      "100%|██████████| 50/50 [06:19<00:00,  7.60s/it]\n",
      "100%|██████████| 50/50 [06:18<00:00,  7.57s/it]\n",
      "100%|██████████| 50/50 [06:19<00:00,  7.59s/it]\n",
      "100%|██████████| 50/50 [06:17<00:00,  7.56s/it]\n",
      "100%|██████████| 50/50 [06:19<00:00,  7.58s/it]\n",
      "100%|██████████| 50/50 [06:06<00:00,  7.33s/it]\n",
      "100%|██████████| 50/50 [06:07<00:00,  7.34s/it]\n",
      "100%|██████████| 50/50 [05:38<00:00,  6.76s/it]\n",
      "100%|██████████| 50/50 [04:23<00:00,  5.27s/it]\n",
      "100%|██████████| 50/50 [02:19<00:00,  2.79s/it]\n",
      "100%|██████████| 50/50 [01:26<00:00,  1.72s/it]\n",
      "100%|██████████| 50/50 [01:02<00:00,  1.26s/it]\n",
      "100%|██████████| 50/50 [00:48<00:00,  1.02it/s]\n",
      "100%|██████████| 50/50 [00:43<00:00,  1.16it/s]\n",
      "100%|██████████| 50/50 [00:39<00:00,  1.27it/s]\n",
      "100%|██████████| 50/50 [00:34<00:00,  1.44it/s]\n"
     ]
    }
   ],
   "source": [
    "N = 996\n",
    "n_groups = 50\n",
    "N_bits = N * n_groups\n",
    "dv = 6\n",
    "dc = 12\n",
    "max_iter = 30\n",
    "Eb = 1\n",
    "R = 1 - dv/dc\n",
    "snr_db_values_Ei = np.arange(0, 5.5, 0.25)\n",
    "snr_db_values_Eb = [Ei_snr_db_to_Eb_snr_db(i, R) for i in snr_db_values_Ei]\n",
    "N0_values = [N0_from_db_value(i, Eb) for i in snr_db_values_Eb]\n",
    "original = np.zeros(N_bits)\n",
    "info_bit_error_probas = []\n",
    "uncoded_info_bit_error_probas = []\n",
    "\n",
    "if not os.path.isfile(\"ldpc_belief_errors_new.pkl\"):\n",
    "    for N0 in N0_values:\n",
    "        system = LdpcBpskGaussianSystem(N0, Eb, dv, dc, N, max_iter)\n",
    "        decoded_bits_groups = []\n",
    "        uncoded_bits_groups = []\n",
    "        for i in tqdm(range(n_groups)):\n",
    "            decoded_bits_groups.append(system.apply_noise_and_decode()) \n",
    "            uncoded_bits_groups.append(system.get_uncoded_bits())\n",
    "        decoded_bits_groups = np.array(decoded_bits_groups)\n",
    "        uncoded_bits_groups = np.array(uncoded_bits_groups)\n",
    "        decoded = decoded_bits_groups.reshape(-1)\n",
    "        uncoded = uncoded_bits_groups.reshape(-1)\n",
    "        info_bit_error_proba = np.not_equal(original, decoded).sum()/len(original)\n",
    "        info_bit_error_probas.append(info_bit_error_proba)\n",
    "        uncoded_info_bit_error_proba = np.not_equal(original, uncoded).sum()/len(original)\n",
    "        uncoded_info_bit_error_probas.append(uncoded_info_bit_error_proba)\n",
    "        \n",
    "    ldpc_belief_errors_new = info_bit_error_probas\n",
    "    with open (\"ldpc_belief_errors.pkl_new\", \"wb\") as f:\n",
    "        pickle.dump(ldpc_belief_errors_new, f)\n",
    "else:\n",
    "    with open(\"ldpc_belief_errors.pkl_new\", \"rb\") as f:\n",
    "        ldpc_belief_errors_new = pickle.load(f)"
   ]
  },
  {
   "cell_type": "markdown",
   "metadata": {},
   "source": [
    "### Plot"
   ]
  },
  {
   "cell_type": "code",
   "execution_count": 63,
   "metadata": {},
   "outputs": [
    {
     "data": {
      "text/plain": [
       "([<matplotlib.axis.XTick at 0x235bf3a3690>,\n",
       "  <matplotlib.axis.XTick at 0x235c4c9db90>,\n",
       "  <matplotlib.axis.XTick at 0x235c4c11c10>,\n",
       "  <matplotlib.axis.XTick at 0x235c3e4ed10>,\n",
       "  <matplotlib.axis.XTick at 0x235c3e23250>,\n",
       "  <matplotlib.axis.XTick at 0x235c4315490>,\n",
       "  <matplotlib.axis.XTick at 0x235c4317690>,\n",
       "  <matplotlib.axis.XTick at 0x235c4365d90>,\n",
       "  <matplotlib.axis.XTick at 0x235c3e22b10>,\n",
       "  <matplotlib.axis.XTick at 0x235c4385290>,\n",
       "  <matplotlib.axis.XTick at 0x235c4387810>],\n",
       " [Text(0, 0, '0'),\n",
       "  Text(1, 0, '1'),\n",
       "  Text(2, 0, '2'),\n",
       "  Text(3, 0, '3'),\n",
       "  Text(4, 0, '4'),\n",
       "  Text(5, 0, '5'),\n",
       "  Text(6, 0, '6'),\n",
       "  Text(7, 0, '7'),\n",
       "  Text(8, 0, '8'),\n",
       "  Text(9, 0, '9'),\n",
       "  Text(10, 0, '10')])"
      ]
     },
     "execution_count": 63,
     "metadata": {},
     "output_type": "execute_result"
    },
    {
     "data": {
      "image/png": "[encoded data removed]",
      "text/plain": [
       "<Figure size 640x480 with 1 Axes>"
      ]
     },
     "metadata": {},
     "output_type": "display_data"
    }
   ],
   "source": [
    "plt.plot(snrs_db, hamming_errors)\n",
    "plt.plot(snrs_db, ldpc_bitflipping_errors)\n",
    "plt.plot(snr_db_values_Ei, ldpc_belief_errors)\n",
    "plt.plot(snr_db_values_Ei, ldpc_belief_errors_new)\n",
    "plt.yscale(\"log\")\n",
    "plt.legend([\"Hamming\", \"LDPC Bit Flipping\", \"LDPC Belief Propagation R=4/7\", \"LDPC Belief Propagation R=1/2\"], loc=\"upper right\")\n",
    "plt.xlabel(\"Ei/N0 (db)\")\n",
    "plt.ylabel(\"pb\")\n",
    "plt.xticks(np.arange(0, 11, 1))"
   ]
  },
  {
   "cell_type": "code",
   "execution_count": null,
   "metadata": {},
   "outputs": [],
   "source": []
  }
 ],
 "metadata": {
  "kernelspec": {
   "display_name": "data-science",
   "language": "python",
   "name": "python3"
  },
  "language_info": {
   "codemirror_mode": {
    "name": "ipython",
    "version": 3
   },
   "file_extension": ".py",
   "mimetype": "text/x-python",
   "name": "python",
   "nbconvert_exporter": "python",
   "pygments_lexer": "ipython3",
   "version": "3.11.4"
  }
 },
 "nbformat": 4,
 "nbformat_minor": 2
}
