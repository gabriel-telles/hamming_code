{
 "cells": [
  {
   "cell_type": "markdown",
   "metadata": {},
   "source": [
    "### All Code Comparison"
   ]
  },
  {
   "cell_type": "code",
   "execution_count": 1,
   "metadata": {},
   "outputs": [],
   "source": [
    "import os\n",
    "import numpy as np\n",
    "import random\n",
    "from tqdm import tqdm\n",
    "import matplotlib.pyplot as plt\n",
    "from utils import *\n",
    "from hamming_channel_47 import HammingChannel47\n",
    "from ldpc_channel import LdpcChannel\n",
    "import matplotlib.pyplot as plt\n",
    "from ldpc_bpsk_gaussian_system import LdpcBpskGaussianSystem"
   ]
  },
  {
   "cell_type": "markdown",
   "metadata": {},
   "source": [
    "#### Hamming"
   ]
  },
  {
   "cell_type": "code",
   "execution_count": 2,
   "metadata": {},
   "outputs": [
    {
     "name": "stdout",
     "output_type": "stream",
     "text": [
      "p = 0.14252470370130643\n"
     ]
    },
    {
     "name": "stderr",
     "output_type": "stream",
     "text": [
      "100%|██████████| 250000/250000 [01:11<00:00, 3502.16it/s]\n"
     ]
    },
    {
     "name": "stdout",
     "output_type": "stream",
     "text": [
      "p = 0.12873528209043172\n"
     ]
    },
    {
     "name": "stderr",
     "output_type": "stream",
     "text": [
      "100%|██████████| 250000/250000 [01:01<00:00, 4047.44it/s]\n"
     ]
    },
    {
     "name": "stdout",
     "output_type": "stream",
     "text": [
      "p = 0.11516908862773423\n"
     ]
    },
    {
     "name": "stderr",
     "output_type": "stream",
     "text": [
      "100%|██████████| 250000/250000 [01:23<00:00, 2981.24it/s]\n"
     ]
    },
    {
     "name": "stdout",
     "output_type": "stream",
     "text": [
      "p = 0.10194219854208608\n"
     ]
    },
    {
     "name": "stderr",
     "output_type": "stream",
     "text": [
      "100%|██████████| 250000/250000 [01:13<00:00, 3393.39it/s]\n"
     ]
    },
    {
     "name": "stdout",
     "output_type": "stream",
     "text": [
      "p = 0.0891757908458275\n"
     ]
    },
    {
     "name": "stderr",
     "output_type": "stream",
     "text": [
      "100%|██████████| 250000/250000 [01:22<00:00, 3032.26it/s]\n"
     ]
    },
    {
     "name": "stdout",
     "output_type": "stream",
     "text": [
      "p = 0.07699273024700704\n"
     ]
    },
    {
     "name": "stderr",
     "output_type": "stream",
     "text": [
      "100%|██████████| 250000/250000 [01:21<00:00, 3084.04it/s]\n"
     ]
    },
    {
     "name": "stdout",
     "output_type": "stream",
     "text": [
      "p = 0.06551327242683047\n"
     ]
    },
    {
     "name": "stderr",
     "output_type": "stream",
     "text": [
      "100%|██████████| 250000/250000 [01:14<00:00, 3370.82it/s]\n"
     ]
    },
    {
     "name": "stdout",
     "output_type": "stream",
     "text": [
      "p = 0.05484997901513444\n"
     ]
    },
    {
     "name": "stderr",
     "output_type": "stream",
     "text": [
      "100%|██████████| 250000/250000 [01:18<00:00, 3187.39it/s]\n"
     ]
    },
    {
     "name": "stdout",
     "output_type": "stream",
     "text": [
      "p = 0.04510204743362156\n"
     ]
    },
    {
     "name": "stderr",
     "output_type": "stream",
     "text": [
      "100%|██████████| 250000/250000 [01:10<00:00, 3542.69it/s]\n"
     ]
    },
    {
     "name": "stdout",
     "output_type": "stream",
     "text": [
      "p = 0.03634940131838471\n"
     ]
    },
    {
     "name": "stderr",
     "output_type": "stream",
     "text": [
      "100%|██████████| 250000/250000 [01:05<00:00, 3825.36it/s]\n"
     ]
    },
    {
     "name": "stdout",
     "output_type": "stream",
     "text": [
      "p = 0.028647034206930377\n"
     ]
    },
    {
     "name": "stderr",
     "output_type": "stream",
     "text": [
      "100%|██████████| 250000/250000 [01:02<00:00, 4030.59it/s]\n"
     ]
    }
   ],
   "source": [
    "# 1. Escolha um valor de p. Utilize p = 0.5,0.2,0.1,0.05,0.02,0.01,0.005,...\n",
    "\n",
    "snrs_db = np.arange(0, 5.5, 0.5) \n",
    "ps = []\n",
    "R = 4/7\n",
    "for snr_db in snrs_db:\n",
    "    ps.append(Ei_N0_to_p(snr_db, R)) \n",
    "    \n",
    "bit_values = [0, 1]\n",
    "save_folder = \"./bit_error_results\"\n",
    "if not os.path.exists(save_folder):\n",
    "    os.mkdir(save_folder)\n",
    "method = \"hamming\"\n",
    "for p in ps:\n",
    "    print(f\"p = {p}\")\n",
    "    \n",
    "    # 2. Gere aleatoriamente cerca de 1 milhão de bits de informação\n",
    "    # 3. Divida em grupos de K bits. Haverá L grupos\n",
    "    save_path_original = save_folder + f\"/{p}-{method}-bits-original.npy\"    \n",
    "\n",
    "    if not os.path.isfile(save_path_original):  \n",
    "        random_info_bits = np.array(random.choices(bit_values, weights=[1, 1], k = int(1e6))) \n",
    "        k = 4\n",
    "        original_bits_groups = random_info_bits.reshape(-1, k) \n",
    "        with open(save_path_original, \"wb\") as f:\n",
    "            np.save(f, original_bits_groups)\n",
    "    else:\n",
    "        with open(save_path_original, \"rb\") as f:\n",
    "            original_bits_groups = np.load(f)\n",
    "            \n",
    "    # 4: Gere as L palavras-código correspondentes a cada um dos grupos do item 3\n",
    "    # 5: Simule o efeito do canal BSC trocando o valor dos bits das palavras código do item anterior \n",
    "    # com probabilidade p para todos os bits de todas as L palavras-código, gerando assim L palavras recebidas.\n",
    "    # 6: Realize o processo de detecção por síndrome para cada uma das L palavras recebidas.\n",
    "    # 7: Realize o processo de estimação sobre os bits de informação.\n",
    "    save_path_decoded = save_folder + f\"/{p}-{method}-bits-decoded.npy\"\n",
    "\n",
    "    if not os.path.isfile(save_path_decoded):\n",
    "        hamming_channel = HammingChannel47(p)\n",
    "        decoded_bits_groups = []\n",
    "        for i in tqdm(range(original_bits_groups.shape[0])):\n",
    "            decoded_bits_groups.append(hamming_channel.transmit(original_bits_groups[i])) \n",
    "        decoded_bits_groups = np.array(decoded_bits_groups)\n",
    "        with open(save_path_decoded, 'wb') as f:\n",
    "            np.save(f, decoded_bits_groups)\n",
    "    else: \n",
    "        with open(save_path_decoded, \"rb\") as f:\n",
    "            decoded_bits_groups = np.load(f)"
   ]
  },
  {
   "cell_type": "code",
   "execution_count": 4,
   "metadata": {},
   "outputs": [],
   "source": [
    "save_folder = \"./bit_error_results\"\n",
    "info_bit_error_probas = []\n",
    "\n",
    "for p in ps:\n",
    "    save_path_original = save_folder + f\"/{p}-{method}-bits-original.npy\"\n",
    "    with open(save_path_original, \"rb\") as f:\n",
    "        original_bits_groups = np.load(f)\n",
    "\n",
    "    save_path_decoded = save_folder + f\"/{p}-{method}-bits-decoded.npy\"\n",
    "    with open(save_path_decoded, \"rb\") as f:\n",
    "        decoded_bits_groups = np.load(f)\n",
    "        \n",
    "    original = original_bits_groups.reshape(-1)\n",
    "    decoded = decoded_bits_groups.reshape(-1)\n",
    "    info_bit_error_proba = np.not_equal(original, decoded).sum()/len(original)\n",
    "    info_bit_error_probas.append(info_bit_error_proba)"
   ]
  },
  {
   "cell_type": "code",
   "execution_count": 6,
   "metadata": {},
   "outputs": [],
   "source": [
    "hamming_errors = info_bit_error_probas"
   ]
  },
  {
   "cell_type": "code",
   "execution_count": 21,
   "metadata": {},
   "outputs": [
    {
     "data": {
      "text/plain": [
       "[0.119709,\n",
       " 0.100886,\n",
       " 0.085127,\n",
       " 0.069136,\n",
       " 0.05474,\n",
       " 0.042593,\n",
       " 0.031849,\n",
       " 0.023361,\n",
       " 0.015978,\n",
       " 0.010554,\n",
       " 0.00705]"
      ]
     },
     "execution_count": 21,
     "metadata": {},
     "output_type": "execute_result"
    }
   ],
   "source": [
    "hamming_errors"
   ]
  },
  {
   "cell_type": "markdown",
   "metadata": {},
   "source": [
    "### LDPC - Bit Flipping"
   ]
  },
  {
   "cell_type": "code",
   "execution_count": 15,
   "metadata": {},
   "outputs": [],
   "source": [
    "#4/7 Rate\n",
    "rate=\"4/7\"\n",
    "save_folder = \"./bit_error_results_47\"\n",
    "hamming=False\n",
    "dv=3\n",
    "dc=7\n",
    "N_values=[1001]\n",
    "snrs_db = np.arange(0, 5.5, 0.5) \n",
    "ps = []\n",
    "R = 4/7\n",
    "for snr_db in snrs_db:\n",
    "    ps.append(Ei_N0_to_p(snr_db, R)) "
   ]
  },
  {
   "cell_type": "code",
   "execution_count": 16,
   "metadata": {},
   "outputs": [],
   "source": [
    "def generate_groups(N, N_bits, ps):\n",
    "    \"\"\"\n",
    "    dv = 3 # número de ramos que saem de cada v-node para a camada CND = número de 1s nas colunas\n",
    "    dc = 7 # número de ramos que saem de cada c-node para a camada VND = número de 1s nas linhas\n",
    "    N = 98 # tamanho da palavra código\n",
    "    \"\"\"\n",
    "    n_groups = int(N_bits/N)\n",
    "    if not os.path.exists(save_folder):\n",
    "        os.mkdir(save_folder)\n",
    "    method = \"ldpc\"\n",
    "\n",
    "    for p in ps:\n",
    "        save_path_original = save_folder + f\"/{N}-{p}-{method}-bits-original.npy\"    \n",
    "\n",
    "        if not os.path.isfile(save_path_original):  \n",
    "            original_bits_groups = np.zeros((1, N_bits)).reshape(-1, N) \n",
    "            with open(save_path_original, \"wb\") as f:\n",
    "                np.save(f, original_bits_groups)\n",
    "\n",
    "        save_path_decoded = save_folder + f\"/{N}-{p}-{method}-bits-decoded.npy\"\n",
    "        if not os.path.isfile(save_path_decoded):\n",
    "            print(f\"p = {p}\")\n",
    "            ldpc_channel = LdpcChannel(p, dv, dc, N, iterations=100)\n",
    "            decoded_bits_groups = []\n",
    "            for i in tqdm(range(n_groups)):\n",
    "                decoded_bits_groups.append(ldpc_channel.transmit()) \n",
    "            decoded_bits_groups = np.array(decoded_bits_groups)\n",
    "            with open(save_path_decoded, 'wb') as f:\n",
    "                np.save(f, decoded_bits_groups)\n",
    "        else: \n",
    "            with open(save_path_decoded, \"rb\") as f:\n",
    "                decoded_bits_groups = np.load(f)\n",
    "\n",
    "def get_info_bit_error_probas(N, ps):\n",
    "    method = \"ldpc\"\n",
    "    info_bit_error_probas = []\n",
    "\n",
    "    for p in ps:\n",
    "        save_path_original = save_folder + f\"/{N}-{p}-{method}-bits-original.npy\"\n",
    "        with open(save_path_original, \"rb\") as f:\n",
    "            original_bits_groups = np.load(f)\n",
    "\n",
    "        save_path_decoded = save_folder + f\"/{N}-{p}-{method}-bits-decoded.npy\"\n",
    "        with open(save_path_decoded, \"rb\") as f:\n",
    "            decoded_bits_groups = np.load(f)\n",
    "            \n",
    "        original = original_bits_groups.reshape(-1)\n",
    "        decoded = decoded_bits_groups.reshape(-1)\n",
    "        info_bit_error_proba = np.not_equal(original, decoded).sum()/len(original)\n",
    "        info_bit_error_probas.append(info_bit_error_proba)\n",
    "        \n",
    "    return info_bit_error_probas\n",
    "\n",
    "def get_probas_list_ldpc(N_values, ps):\n",
    "    \n",
    "    if hamming:\n",
    "        info_bit_error_probas_hamming = []\n",
    "        method = \"hamming\"\n",
    "\n",
    "        for p in ps:\n",
    "            save_path_original = save_folder + f\"/{p}-{method}-bits-original.npy\"\n",
    "            with open(save_path_original, \"rb\") as f:\n",
    "                original_bits_groups = np.load(f)\n",
    "\n",
    "            save_path_decoded = save_folder + f\"/{p}-{method}-bits-decoded.npy\"\n",
    "            with open(save_path_decoded, \"rb\") as f:\n",
    "                decoded_bits_groups = np.load(f)\n",
    "                \n",
    "            original = original_bits_groups.reshape(-1)\n",
    "            decoded = decoded_bits_groups.reshape(-1)\n",
    "            info_bit_error_proba = np.not_equal(original, decoded).sum()/len(original)\n",
    "            info_bit_error_probas_hamming.append(info_bit_error_proba)\n",
    "    \n",
    "    probas_list = []\n",
    "    \n",
    "    for N in N_values:\n",
    "        generate_groups(N=N, N_bits=N*1000, ps=ps)\n",
    "        info_bit_error_probas = get_info_bit_error_probas(N=N, ps=ps)\n",
    "        for i in range(len(info_bit_error_probas) - 1):\n",
    "            if(info_bit_error_probas[i] == 0 and info_bit_error_probas[i+1] > 0):\n",
    "                info_bit_error_probas[i+1] = 0\n",
    "        probas_list.append(info_bit_error_probas)\n",
    "    \n",
    "    return probas_list"
   ]
  },
  {
   "cell_type": "code",
   "execution_count": 17,
   "metadata": {},
   "outputs": [
    {
     "name": "stdout",
     "output_type": "stream",
     "text": [
      "p = 0.14252470370130643\n"
     ]
    },
    {
     "name": "stderr",
     "output_type": "stream",
     "text": [
      "100%|██████████| 1000/1000 [04:26<00:00,  3.75it/s]\n"
     ]
    },
    {
     "name": "stdout",
     "output_type": "stream",
     "text": [
      "p = 0.12873528209043172\n"
     ]
    },
    {
     "name": "stderr",
     "output_type": "stream",
     "text": [
      "100%|██████████| 1000/1000 [04:42<00:00,  3.54it/s]\n"
     ]
    },
    {
     "name": "stdout",
     "output_type": "stream",
     "text": [
      "p = 0.11516908862773423\n"
     ]
    },
    {
     "name": "stderr",
     "output_type": "stream",
     "text": [
      "100%|██████████| 1000/1000 [04:39<00:00,  3.57it/s]\n"
     ]
    },
    {
     "name": "stdout",
     "output_type": "stream",
     "text": [
      "p = 0.10194219854208608\n"
     ]
    },
    {
     "name": "stderr",
     "output_type": "stream",
     "text": [
      "100%|██████████| 1000/1000 [04:38<00:00,  3.59it/s]\n"
     ]
    },
    {
     "name": "stdout",
     "output_type": "stream",
     "text": [
      "p = 0.0891757908458275\n"
     ]
    },
    {
     "name": "stderr",
     "output_type": "stream",
     "text": [
      "100%|██████████| 1000/1000 [04:39<00:00,  3.57it/s]\n"
     ]
    },
    {
     "name": "stdout",
     "output_type": "stream",
     "text": [
      "p = 0.07699273024700704\n"
     ]
    },
    {
     "name": "stderr",
     "output_type": "stream",
     "text": [
      "100%|██████████| 1000/1000 [04:19<00:00,  3.86it/s]\n"
     ]
    },
    {
     "name": "stdout",
     "output_type": "stream",
     "text": [
      "p = 0.06551327242683047\n"
     ]
    },
    {
     "name": "stderr",
     "output_type": "stream",
     "text": [
      "100%|██████████| 1000/1000 [03:31<00:00,  4.73it/s]\n"
     ]
    },
    {
     "name": "stdout",
     "output_type": "stream",
     "text": [
      "p = 0.05484997901513444\n"
     ]
    },
    {
     "name": "stderr",
     "output_type": "stream",
     "text": [
      "100%|██████████| 1000/1000 [04:00<00:00,  4.15it/s]\n"
     ]
    },
    {
     "name": "stdout",
     "output_type": "stream",
     "text": [
      "p = 0.04510204743362156\n"
     ]
    },
    {
     "name": "stderr",
     "output_type": "stream",
     "text": [
      "100%|██████████| 1000/1000 [03:51<00:00,  4.32it/s]\n"
     ]
    },
    {
     "name": "stdout",
     "output_type": "stream",
     "text": [
      "p = 0.03634940131838471\n"
     ]
    },
    {
     "name": "stderr",
     "output_type": "stream",
     "text": [
      "100%|██████████| 1000/1000 [03:20<00:00,  4.99it/s]\n"
     ]
    },
    {
     "name": "stdout",
     "output_type": "stream",
     "text": [
      "p = 0.028647034206930377\n"
     ]
    },
    {
     "name": "stderr",
     "output_type": "stream",
     "text": [
      "100%|██████████| 1000/1000 [02:56<00:00,  5.67it/s]\n"
     ]
    }
   ],
   "source": [
    "ldpc_errors = get_probas_list_ldpc(N_values, ps)"
   ]
  },
  {
   "cell_type": "code",
   "execution_count": 20,
   "metadata": {},
   "outputs": [
    {
     "data": {
      "text/plain": [
       "[0.19182517482517483,\n",
       " 0.17631668331668332,\n",
       " 0.15798201798201797,\n",
       " 0.14072227772227772,\n",
       " 0.1195964035964036,\n",
       " 0.09866333666333667,\n",
       " 0.0764115884115884,\n",
       " 0.05357142857142857,\n",
       " 0.03307992007992008,\n",
       " 0.016977022977022978,\n",
       " 0.007014985014985015]"
      ]
     },
     "execution_count": 20,
     "metadata": {},
     "output_type": "execute_result"
    }
   ],
   "source": [
    "ldpc_errors = ldpc_errors[0]\n",
    "ldpc_errors"
   ]
  },
  {
   "cell_type": "markdown",
   "metadata": {},
   "source": [
    "### LDPC - Belief Propagation"
   ]
  },
  {
   "cell_type": "code",
   "execution_count": 2,
   "metadata": {},
   "outputs": [
    {
     "name": "stderr",
     "output_type": "stream",
     "text": [
      "  0%|          | 0/100 [00:00<?, ?it/s]"
     ]
    },
    {
     "name": "stderr",
     "output_type": "stream",
     "text": [
      "  0%|          | 0/100 [00:21<?, ?it/s]\n"
     ]
    },
    {
     "ename": "KeyboardInterrupt",
     "evalue": "",
     "output_type": "error",
     "traceback": [
      "\u001b[1;31m---------------------------------------------------------------------------\u001b[0m",
      "\u001b[1;31mKeyboardInterrupt\u001b[0m                         Traceback (most recent call last)",
      "Cell \u001b[1;32mIn[2], line 21\u001b[0m\n\u001b[0;32m     19\u001b[0m uncoded_bits_groups \u001b[38;5;241m=\u001b[39m []\n\u001b[0;32m     20\u001b[0m \u001b[38;5;28;01mfor\u001b[39;00m i \u001b[38;5;129;01min\u001b[39;00m tqdm(\u001b[38;5;28mrange\u001b[39m(n_groups)):\n\u001b[1;32m---> 21\u001b[0m     decoded_bits_groups\u001b[38;5;241m.\u001b[39mappend(\u001b[43msystem\u001b[49m\u001b[38;5;241;43m.\u001b[39;49m\u001b[43mapply_noise_and_decode\u001b[49m\u001b[43m(\u001b[49m\u001b[43m)\u001b[49m) \n\u001b[0;32m     22\u001b[0m     uncoded_bits_groups\u001b[38;5;241m.\u001b[39mappend(system\u001b[38;5;241m.\u001b[39mget_uncoded_bits())\n\u001b[0;32m     23\u001b[0m decoded_bits_groups \u001b[38;5;241m=\u001b[39m np\u001b[38;5;241m.\u001b[39marray(decoded_bits_groups)\n",
      "File \u001b[1;32mc:\\Users\\Samsung\\Desktop\\ITA\\3ºSemestre_Comp_ITA\\ELE-32\\Labs\\hamming_code\\lab4\\ldpc_bpsk_gaussian_system.py:46\u001b[0m, in \u001b[0;36mLdpcBpskGaussianSystem.apply_noise_and_decode\u001b[1;34m(self)\u001b[0m\n\u001b[0;32m     44\u001b[0m bits \u001b[38;5;241m=\u001b[39m np\u001b[38;5;241m.\u001b[39mzeros(\u001b[38;5;28mself\u001b[39m\u001b[38;5;241m.\u001b[39m__N)\n\u001b[0;32m     45\u001b[0m \u001b[38;5;28mself\u001b[39m\u001b[38;5;241m.\u001b[39mchannel_llr \u001b[38;5;241m=\u001b[39m \u001b[38;5;28mself\u001b[39m\u001b[38;5;241m.\u001b[39m__channel\u001b[38;5;241m.\u001b[39mtransmit_LLR(bits)\n\u001b[1;32m---> 46\u001b[0m \u001b[38;5;28;01mreturn\u001b[39;00m \u001b[38;5;28;43mself\u001b[39;49m\u001b[38;5;241;43m.\u001b[39;49m\u001b[43m__belief_propagation\u001b[49m\u001b[38;5;241;43m.\u001b[39;49m\u001b[43mdecode\u001b[49m\u001b[43m(\u001b[49m\u001b[38;5;28;43mself\u001b[39;49m\u001b[38;5;241;43m.\u001b[39;49m\u001b[43mchannel_llr\u001b[49m\u001b[43m,\u001b[49m\u001b[43m \u001b[49m\u001b[38;5;28;43mself\u001b[39;49m\u001b[38;5;241;43m.\u001b[39;49m\u001b[43m__max_iter\u001b[49m\u001b[43m)\u001b[49m\n",
      "File \u001b[1;32mc:\\Users\\Samsung\\Desktop\\ITA\\3ºSemestre_Comp_ITA\\ELE-32\\Labs\\hamming_code\\lab4\\belief_propagation.py:15\u001b[0m, in \u001b[0;36mBeliefPropagation.decode\u001b[1;34m(self, channel_llr, max_iter)\u001b[0m\n\u001b[0;32m     13\u001b[0m \u001b[38;5;28;01mif\u001b[39;00m iterations_counter \u001b[38;5;241m==\u001b[39m max_iter \u001b[38;5;129;01mor\u001b[39;00m \u001b[38;5;28mself\u001b[39m\u001b[38;5;241m.\u001b[39m__check_parity():\n\u001b[0;32m     14\u001b[0m     \u001b[38;5;28;01mreturn\u001b[39;00m \u001b[38;5;28mself\u001b[39m\u001b[38;5;241m.\u001b[39m__decide_bits()\n\u001b[1;32m---> 15\u001b[0m \u001b[38;5;28;43mself\u001b[39;49m\u001b[38;5;241;43m.\u001b[39;49m\u001b[43m__transmit_c_nodes_messages\u001b[49m\u001b[43m(\u001b[49m\u001b[43m)\u001b[49m\n\u001b[0;32m     16\u001b[0m iterations_counter \u001b[38;5;241m+\u001b[39m\u001b[38;5;241m=\u001b[39m \u001b[38;5;241m1\u001b[39m\n",
      "File \u001b[1;32mc:\\Users\\Samsung\\Desktop\\ITA\\3ºSemestre_Comp_ITA\\ELE-32\\Labs\\hamming_code\\lab4\\belief_propagation.py:30\u001b[0m, in \u001b[0;36mBeliefPropagation.__transmit_c_nodes_messages\u001b[1;34m(self)\u001b[0m\n\u001b[0;32m     28\u001b[0m row_except_j \u001b[38;5;241m=\u001b[39m np\u001b[38;5;241m.\u001b[39mdelete(row, j)\n\u001b[0;32m     29\u001b[0m row_except_j_and_zero \u001b[38;5;241m=\u001b[39m row_except_j[row_except_j \u001b[38;5;241m!=\u001b[39m \u001b[38;5;241m0\u001b[39m]\n\u001b[1;32m---> 30\u001b[0m min_module \u001b[38;5;241m=\u001b[39m np\u001b[38;5;241m.\u001b[39mmin(\u001b[43mnp\u001b[49m\u001b[38;5;241;43m.\u001b[39;49m\u001b[43mabs\u001b[49m\u001b[43m(\u001b[49m\u001b[43mrow_except_j_and_zero\u001b[49m\u001b[43m)\u001b[49m)\n\u001b[0;32m     31\u001b[0m sign_product \u001b[38;5;241m=\u001b[39m np\u001b[38;5;241m.\u001b[39mprod(np\u001b[38;5;241m.\u001b[39msign(row_except_j_and_zero))\n\u001b[0;32m     32\u001b[0m nodes_llr_aux[i][j] \u001b[38;5;241m=\u001b[39m min_module \u001b[38;5;241m*\u001b[39m sign_product\n",
      "\u001b[1;31mKeyboardInterrupt\u001b[0m: "
     ]
    }
   ],
   "source": [
    "N = 1001\n",
    "n_groups = 100\n",
    "N_bits = N * n_groups\n",
    "dv = 3\n",
    "dc = 7\n",
    "max_iter = 50\n",
    "Eb = 1\n",
    "R = 4/7\n",
    "snr_db_values_Ei = np.arange(0, 5.5, 0.5)\n",
    "snr_db_values_Eb = [Ei_snr_db_to_Eb_snr_db(i, R) for i in snr_db_values_Ei]\n",
    "N0_values = [N0_from_db_value(i, Eb) for i in snr_db_values_Eb]\n",
    "original = np.zeros(N_bits)\n",
    "info_bit_error_probas = []\n",
    "uncoded_info_bit_error_probas = []\n",
    "\n",
    "for N0 in N0_values:\n",
    "    system = LdpcBpskGaussianSystem(N0, Eb, dv, dc, N, max_iter)\n",
    "    decoded_bits_groups = []\n",
    "    uncoded_bits_groups = []\n",
    "    for i in tqdm(range(n_groups)):\n",
    "        decoded_bits_groups.append(system.apply_noise_and_decode()) \n",
    "        uncoded_bits_groups.append(system.get_uncoded_bits())\n",
    "    decoded_bits_groups = np.array(decoded_bits_groups)\n",
    "    uncoded_bits_groups = np.array(uncoded_bits_groups)\n",
    "    decoded = decoded_bits_groups.reshape(-1)\n",
    "    uncoded = uncoded_bits_groups.reshape(-1)\n",
    "    info_bit_error_proba = np.not_equal(original, decoded).sum()/len(original)\n",
    "    info_bit_error_probas.append(info_bit_error_proba)\n",
    "    uncoded_info_bit_error_proba = np.not_equal(original, uncoded).sum()/len(original)\n",
    "    uncoded_info_bit_error_probas.append(uncoded_info_bit_error_proba)\n",
    "    \n",
    "ldpc_belief_errors = info_bit_error_probas"
   ]
  },
  {
   "cell_type": "code",
   "execution_count": null,
   "metadata": {},
   "outputs": [],
   "source": [
    "ldpc_belief_errors"
   ]
  },
  {
   "cell_type": "markdown",
   "metadata": {},
   "source": []
  }
 ],
 "metadata": {
  "kernelspec": {
   "display_name": "data-science",
   "language": "python",
   "name": "python3"
  },
  "language_info": {
   "codemirror_mode": {
    "name": "ipython",
    "version": 3
   },
   "file_extension": ".py",
   "mimetype": "text/x-python",
   "name": "python",
   "nbconvert_exporter": "python",
   "pygments_lexer": "ipython3",
   "version": "3.11.4"
  }
 },
 "nbformat": 4,
 "nbformat_minor": 2
}
