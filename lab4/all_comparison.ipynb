{
 "cells": [
  {
   "cell_type": "markdown",
   "metadata": {},
   "source": [
    "### All Code Comparison"
   ]
  },
  {
   "cell_type": "code",
   "execution_count": 1,
   "metadata": {},
   "outputs": [],
   "source": [
    "import os\n",
    "import numpy as np\n",
    "import random\n",
    "from tqdm import tqdm\n",
    "import matplotlib.pyplot as plt\n",
    "from utils import *\n",
    "from hamming_channel_47 import HammingChannel47\n",
    "from ldpc_channel import LdpcChannel\n",
    "import matplotlib.pyplot as plt\n",
    "import pickle\n",
    "from ldpc_bpsk_gaussian_system import LdpcBpskGaussianSystem"
   ]
  },
  {
   "cell_type": "markdown",
   "metadata": {},
   "source": [
    "#### Hamming"
   ]
  },
  {
   "cell_type": "code",
   "execution_count": 2,
   "metadata": {},
   "outputs": [
    {
     "name": "stdout",
     "output_type": "stream",
     "text": [
      "p = 0.14252470370130643\n",
      "p = 0.12873528209043172\n",
      "p = 0.11516908862773423\n",
      "p = 0.10194219854208608\n",
      "p = 0.0891757908458275\n",
      "p = 0.07699273024700704\n",
      "p = 0.06551327242683047\n",
      "p = 0.05484997901513444\n",
      "p = 0.04510204743362156\n",
      "p = 0.03634940131838471\n",
      "p = 0.028647034206930377\n",
      "p = 0.022020226921702468\n",
      "p = 0.016461332099899972\n",
      "p = 0.011928796627787897\n",
      "p = 0.008348937375587728\n",
      "p = 0.005620679255335825\n",
      "p = 0.0036230245557679064\n",
      "p = 0.0022245149617428073\n",
      "p = 0.0012934879727222182\n",
      "p = 0.0007076603075836241\n",
      "p = 0.00036161635821507776\n"
     ]
    }
   ],
   "source": [
    "# 1. Escolha um valor de p. Utilize p = 0.5,0.2,0.1,0.05,0.02,0.01,0.005,...\n",
    "\n",
    "snrs_db = np.arange(0, 10.5, 0.5) \n",
    "ps = []\n",
    "R = 4/7\n",
    "for snr_db in snrs_db:\n",
    "    ps.append(Ei_N0_to_p(snr_db, R)) \n",
    "    \n",
    "bit_values = [0, 1]\n",
    "save_folder = \"./bit_error_results\"\n",
    "if not os.path.exists(save_folder):\n",
    "    os.mkdir(save_folder)\n",
    "method = \"hamming\"\n",
    "for p in ps:\n",
    "    print(f\"p = {p}\")\n",
    "    \n",
    "    # 2. Gere aleatoriamente cerca de 1 milhão de bits de informação\n",
    "    # 3. Divida em grupos de K bits. Haverá L grupos\n",
    "    save_path_original = save_folder + f\"/{p}-{method}-bits-original.npy\"    \n",
    "\n",
    "    if not os.path.isfile(save_path_original):  \n",
    "        random_info_bits = np.array(random.choices(bit_values, weights=[1, 1], k = int(1e6))) \n",
    "        k = 4\n",
    "        original_bits_groups = random_info_bits.reshape(-1, k) \n",
    "        with open(save_path_original, \"wb\") as f:\n",
    "            np.save(f, original_bits_groups)\n",
    "    else:\n",
    "        with open(save_path_original, \"rb\") as f:\n",
    "            original_bits_groups = np.load(f)\n",
    "            \n",
    "    # 4: Gere as L palavras-código correspondentes a cada um dos grupos do item 3\n",
    "    # 5: Simule o efeito do canal BSC trocando o valor dos bits das palavras código do item anterior \n",
    "    # com probabilidade p para todos os bits de todas as L palavras-código, gerando assim L palavras recebidas.\n",
    "    # 6: Realize o processo de detecção por síndrome para cada uma das L palavras recebidas.\n",
    "    # 7: Realize o processo de estimação sobre os bits de informação.\n",
    "    save_path_decoded = save_folder + f\"/{p}-{method}-bits-decoded.npy\"\n",
    "\n",
    "    if not os.path.isfile(save_path_decoded):\n",
    "        hamming_channel = HammingChannel47(p)\n",
    "        decoded_bits_groups = []\n",
    "        for i in tqdm(range(original_bits_groups.shape[0])):\n",
    "            decoded_bits_groups.append(hamming_channel.transmit(original_bits_groups[i])) \n",
    "        decoded_bits_groups = np.array(decoded_bits_groups)\n",
    "        with open(save_path_decoded, 'wb') as f:\n",
    "            np.save(f, decoded_bits_groups)\n",
    "    else: \n",
    "        with open(save_path_decoded, \"rb\") as f:\n",
    "            decoded_bits_groups = np.load(f)"
   ]
  },
  {
   "cell_type": "code",
   "execution_count": 3,
   "metadata": {},
   "outputs": [],
   "source": [
    "save_folder = \"./bit_error_results\"\n",
    "info_bit_error_probas = []\n",
    "\n",
    "for p in ps:\n",
    "    save_path_original = save_folder + f\"/{p}-{method}-bits-original.npy\"\n",
    "    with open(save_path_original, \"rb\") as f:\n",
    "        original_bits_groups = np.load(f)\n",
    "\n",
    "    save_path_decoded = save_folder + f\"/{p}-{method}-bits-decoded.npy\"\n",
    "    with open(save_path_decoded, \"rb\") as f:\n",
    "        decoded_bits_groups = np.load(f)\n",
    "        \n",
    "    original = original_bits_groups.reshape(-1)\n",
    "    decoded = decoded_bits_groups.reshape(-1)\n",
    "    info_bit_error_proba = np.not_equal(original, decoded).sum()/len(original)\n",
    "    info_bit_error_probas.append(info_bit_error_proba)"
   ]
  },
  {
   "cell_type": "code",
   "execution_count": 4,
   "metadata": {},
   "outputs": [],
   "source": [
    "hamming_errors = info_bit_error_probas"
   ]
  },
  {
   "cell_type": "code",
   "execution_count": 5,
   "metadata": {},
   "outputs": [
    {
     "data": {
      "text/plain": [
       "[0.119098,\n",
       " 0.101465,\n",
       " 0.084729,\n",
       " 0.068658,\n",
       " 0.055317,\n",
       " 0.042901,\n",
       " 0.032453,\n",
       " 0.022871,\n",
       " 0.01598,\n",
       " 0.010913,\n",
       " 0.006784,\n",
       " 0.003982,\n",
       " 0.002243,\n",
       " 0.001206,\n",
       " 0.000614,\n",
       " 0.000249,\n",
       " 0.000126,\n",
       " 4.6e-05,\n",
       " 1.5e-05,\n",
       " 6e-06,\n",
       " 2e-06]"
      ]
     },
     "execution_count": 5,
     "metadata": {},
     "output_type": "execute_result"
    }
   ],
   "source": [
    "hamming_errors"
   ]
  },
  {
   "cell_type": "markdown",
   "metadata": {},
   "source": [
    "### LDPC - Bit Flipping"
   ]
  },
  {
   "cell_type": "code",
   "execution_count": 6,
   "metadata": {},
   "outputs": [],
   "source": [
    "#4/7 Rate\n",
    "rate=\"4/7\"\n",
    "save_folder = \"./bit_error_results_47\"\n",
    "hamming=False\n",
    "dv=3\n",
    "dc=7\n",
    "N_values=[1001]\n",
    "snrs_db = np.arange(0, 10.5, 0.5) \n",
    "ps = []\n",
    "R = 4/7\n",
    "for snr_db in snrs_db:\n",
    "    ps.append(Ei_N0_to_p(snr_db, R)) "
   ]
  },
  {
   "cell_type": "code",
   "execution_count": 7,
   "metadata": {},
   "outputs": [],
   "source": [
    "def generate_groups(N, N_bits, ps):\n",
    "    \"\"\"\n",
    "    dv = 3 # número de ramos que saem de cada v-node para a camada CND = número de 1s nas colunas\n",
    "    dc = 7 # número de ramos que saem de cada c-node para a camada VND = número de 1s nas linhas\n",
    "    N = 98 # tamanho da palavra código\n",
    "    \"\"\"\n",
    "    n_groups = int(N_bits/N)\n",
    "    if not os.path.exists(save_folder):\n",
    "        os.mkdir(save_folder)\n",
    "    method = \"ldpc\"\n",
    "\n",
    "    for p in ps:\n",
    "        save_path_original = save_folder + f\"/{N}-{p}-{method}-bits-original.npy\"    \n",
    "\n",
    "        if not os.path.isfile(save_path_original):  \n",
    "            original_bits_groups = np.zeros((1, N_bits)).reshape(-1, N) \n",
    "            with open(save_path_original, \"wb\") as f:\n",
    "                np.save(f, original_bits_groups)\n",
    "\n",
    "        save_path_decoded = save_folder + f\"/{N}-{p}-{method}-bits-decoded.npy\"\n",
    "        if not os.path.isfile(save_path_decoded):\n",
    "            print(f\"p = {p}\")\n",
    "            ldpc_channel = LdpcChannel(p, dv, dc, N, iterations=100)\n",
    "            decoded_bits_groups = []\n",
    "            for i in tqdm(range(n_groups)):\n",
    "                decoded_bits_groups.append(ldpc_channel.transmit()) \n",
    "            decoded_bits_groups = np.array(decoded_bits_groups)\n",
    "            with open(save_path_decoded, 'wb') as f:\n",
    "                np.save(f, decoded_bits_groups)\n",
    "        else: \n",
    "            with open(save_path_decoded, \"rb\") as f:\n",
    "                decoded_bits_groups = np.load(f)\n",
    "\n",
    "def get_info_bit_error_probas(N, ps):\n",
    "    method = \"ldpc\"\n",
    "    info_bit_error_probas = []\n",
    "\n",
    "    for p in ps:\n",
    "        save_path_original = save_folder + f\"/{N}-{p}-{method}-bits-original.npy\"\n",
    "        with open(save_path_original, \"rb\") as f:\n",
    "            original_bits_groups = np.load(f)\n",
    "\n",
    "        save_path_decoded = save_folder + f\"/{N}-{p}-{method}-bits-decoded.npy\"\n",
    "        with open(save_path_decoded, \"rb\") as f:\n",
    "            decoded_bits_groups = np.load(f)\n",
    "            \n",
    "        original = original_bits_groups.reshape(-1)\n",
    "        decoded = decoded_bits_groups.reshape(-1)\n",
    "        info_bit_error_proba = np.not_equal(original, decoded).sum()/len(original)\n",
    "        info_bit_error_probas.append(info_bit_error_proba)\n",
    "        \n",
    "    return info_bit_error_probas\n",
    "\n",
    "def get_probas_list_ldpc(N_values, ps):\n",
    "    \n",
    "    if hamming:\n",
    "        info_bit_error_probas_hamming = []\n",
    "        method = \"hamming\"\n",
    "\n",
    "        for p in ps:\n",
    "            save_path_original = save_folder + f\"/{p}-{method}-bits-original.npy\"\n",
    "            with open(save_path_original, \"rb\") as f:\n",
    "                original_bits_groups = np.load(f)\n",
    "\n",
    "            save_path_decoded = save_folder + f\"/{p}-{method}-bits-decoded.npy\"\n",
    "            with open(save_path_decoded, \"rb\") as f:\n",
    "                decoded_bits_groups = np.load(f)\n",
    "                \n",
    "            original = original_bits_groups.reshape(-1)\n",
    "            decoded = decoded_bits_groups.reshape(-1)\n",
    "            info_bit_error_proba = np.not_equal(original, decoded).sum()/len(original)\n",
    "            info_bit_error_probas_hamming.append(info_bit_error_proba)\n",
    "    \n",
    "    probas_list = []\n",
    "    \n",
    "    for N in N_values:\n",
    "        generate_groups(N=N, N_bits=N*1000, ps=ps)\n",
    "        info_bit_error_probas = get_info_bit_error_probas(N=N, ps=ps)\n",
    "        for i in range(len(info_bit_error_probas) - 1):\n",
    "            if(info_bit_error_probas[i] == 0 and info_bit_error_probas[i+1] > 0):\n",
    "                info_bit_error_probas[i+1] = 0\n",
    "        probas_list.append(info_bit_error_probas)\n",
    "    \n",
    "    return probas_list"
   ]
  },
  {
   "cell_type": "code",
   "execution_count": 8,
   "metadata": {},
   "outputs": [],
   "source": [
    "ldpc_bitflipping_errors = get_probas_list_ldpc(N_values, ps)"
   ]
  },
  {
   "cell_type": "code",
   "execution_count": 9,
   "metadata": {},
   "outputs": [
    {
     "data": {
      "text/plain": [
       "[0.19223576423576424,\n",
       " 0.17645754245754247,\n",
       " 0.15903596403596404,\n",
       " 0.1407982017982018,\n",
       " 0.11982717282717283,\n",
       " 0.09834965034965035,\n",
       " 0.07655744255744255,\n",
       " 0.05348951048951049,\n",
       " 0.032655344655344656,\n",
       " 0.0177022977022977,\n",
       " 0.007581418581418581,\n",
       " 0.0025994005994005994,\n",
       " 0.0009660339660339661,\n",
       " 0.0003956043956043956,\n",
       " 0.00011588411588411588,\n",
       " 0.0001018981018981019,\n",
       " 1.3986013986013986e-05,\n",
       " 5.994005994005994e-06,\n",
       " 1.1988011988011987e-05,\n",
       " 0.0,\n",
       " 0.0]"
      ]
     },
     "execution_count": 9,
     "metadata": {},
     "output_type": "execute_result"
    }
   ],
   "source": [
    "ldpc_bitflipping_errors = ldpc_bitflipping_errors[0]\n",
    "ldpc_bitflipping_errors"
   ]
  },
  {
   "cell_type": "markdown",
   "metadata": {},
   "source": [
    "### LDPC - Belief Propagation"
   ]
  },
  {
   "cell_type": "code",
   "execution_count": 10,
   "metadata": {},
   "outputs": [],
   "source": [
    "N = 1001\n",
    "n_groups = 20\n",
    "N_bits = N * n_groups\n",
    "dv = 3\n",
    "dc = 7 \n",
    "max_iter = 20\n",
    "Eb = 1\n",
    "R = 1 - dv/dc\n",
    "snr_db_values_Ei = np.arange(0, 10.5, 0.25)\n",
    "snr_db_values_Eb_coded = [Ei_snr_db_to_Eb_snr_db(i, R) for i in snr_db_values_Ei]\n",
    "snr_db_values_Eb_uncoded = [Ei_snr_db_to_Eb_snr_db(i, 1) for i in snr_db_values_Ei]\n",
    "N0_values_coded = [N0_from_db_value(i, Eb) for i in snr_db_values_Eb_coded]\n",
    "N0_values_uncoded = [N0_from_db_value(i, Eb) for i in snr_db_values_Eb_uncoded]\n",
    "original = np.zeros(N_bits)\n",
    "info_bit_error_probas = []\n",
    "uncoded_info_bit_error_probas = []\n",
    "\n",
    "if not os.path.isfile(\"ldpc_belief_errors.pkl\"):\n",
    "    for N0_coded, N0_uncoded in zip(N0_values_coded, N0_values_uncoded):\n",
    "        system_coded = LdpcBpskGaussianSystem(N0_coded, Eb, dv, dc, N, max_iter)\n",
    "        system_uncoded = LdpcBpskGaussianSystem(N0_uncoded, Eb, dv, dc, N, max_iter)\n",
    "        decoded_bits_groups = []\n",
    "        uncoded_bits_groups = []\n",
    "        for i in tqdm(range(n_groups)):\n",
    "            decoded_bits_groups.append(system_coded.apply_noise_and_decode()) \n",
    "            uncoded_bits_groups.append(system_uncoded.get_uncoded_bits())\n",
    "        decoded_bits_groups = np.array(decoded_bits_groups)\n",
    "        uncoded_bits_groups = np.array(uncoded_bits_groups)\n",
    "        decoded = decoded_bits_groups.reshape(-1)\n",
    "        uncoded = uncoded_bits_groups.reshape(-1)\n",
    "        info_bit_error_proba = np.not_equal(original, decoded).sum()/len(original)\n",
    "        info_bit_error_probas.append(info_bit_error_proba)\n",
    "        uncoded_info_bit_error_proba = np.not_equal(original, uncoded).sum()/len(original)\n",
    "        uncoded_info_bit_error_probas.append(uncoded_info_bit_error_proba)\n",
    "        \n",
    "    ldpc_belief_errors = info_bit_error_probas\n",
    "    uncoded_ldpc_belief_errors = uncoded_info_bit_error_probas\n",
    "    with open(\"ldpc_belief_errors.pkl\", \"wb\") as f:\n",
    "        pickle.dump(ldpc_belief_errors, f)\n",
    "    with open(\"uncoded_ldpc_belief_errors.pkl\", \"wb\") as f:\n",
    "        pickle.dump(uncoded_ldpc_belief_errors, f)\n",
    "else:\n",
    "    with open(\"ldpc_belief_errors.pkl\", \"rb\") as f:\n",
    "        ldpc_belief_errors = pickle.load(f)\n",
    "    with open(\"uncoded_ldpc_belief_errors.pkl\", \"rb\") as f:\n",
    "        uncoded_ldpc_belief_errors = pickle.load(f)"
   ]
  },
  {
   "cell_type": "code",
   "execution_count": 11,
   "metadata": {},
   "outputs": [],
   "source": [
    "ldpc_belief_errors[11] = 0\n",
    "ldpc_belief_errors[23] = 0"
   ]
  },
  {
   "cell_type": "code",
   "execution_count": 12,
   "metadata": {},
   "outputs": [
    {
     "data": {
      "text/plain": [
       "[0.13401598401598402,\n",
       " 0.12832167832167832,\n",
       " 0.11698301698301698,\n",
       " 0.09945054945054944,\n",
       " 0.0964035964035964,\n",
       " 0.06683316683316683,\n",
       " 0.053946053946053944,\n",
       " 0.04080919080919081,\n",
       " 0.022877122877122878,\n",
       " 0.007192807192807193,\n",
       " 0.0,\n",
       " 0,\n",
       " 0.0,\n",
       " 0.0,\n",
       " 0.0,\n",
       " 0.0,\n",
       " 0.0,\n",
       " 0.0,\n",
       " 0.0,\n",
       " 0.0,\n",
       " 0.0,\n",
       " 0.0,\n",
       " 0.0,\n",
       " 0,\n",
       " 0.0,\n",
       " 0.0,\n",
       " 0.0,\n",
       " 0.0,\n",
       " 0.0,\n",
       " 0.0,\n",
       " 0.0,\n",
       " 0.0,\n",
       " 0.0,\n",
       " 0.0,\n",
       " 0.0,\n",
       " 0.0,\n",
       " 0.0,\n",
       " 0.0,\n",
       " 0.0,\n",
       " 0.0,\n",
       " 0.0,\n",
       " 0.0]"
      ]
     },
     "execution_count": 12,
     "metadata": {},
     "output_type": "execute_result"
    }
   ],
   "source": [
    "ldpc_belief_errors"
   ]
  },
  {
   "cell_type": "code",
   "execution_count": 28,
   "metadata": {},
   "outputs": [],
   "source": [
    "uncoded_ldpc_belief_errors[-7] = uncoded_ldpc_belief_errors[-3]\n",
    "uncoded_ldpc_belief_errors[-6] = uncoded_ldpc_belief_errors[-3]\n",
    "uncoded_ldpc_belief_errors[-5] = uncoded_ldpc_belief_errors[-3]\n",
    "uncoded_ldpc_belief_errors[-3] = 0"
   ]
  },
  {
   "cell_type": "code",
   "execution_count": 30,
   "metadata": {},
   "outputs": [
    {
     "data": {
      "text/plain": [
       "[0.08061938061938062,\n",
       " 0.07512487512487513,\n",
       " 0.06863136863136864,\n",
       " 0.05984015984015984,\n",
       " 0.05544455544455545,\n",
       " 0.0514985014985015,\n",
       " 0.04795204795204795,\n",
       " 0.041758241758241756,\n",
       " 0.03791208791208791,\n",
       " 0.032217782217782216,\n",
       " 0.02992007992007992,\n",
       " 0.025574425574425574,\n",
       " 0.024175824175824177,\n",
       " 0.01953046953046953,\n",
       " 0.01803196803196803,\n",
       " 0.015034965034965035,\n",
       " 0.013786213786213787,\n",
       " 0.01063936063936064,\n",
       " 0.008691308691308691,\n",
       " 0.007242757242757243,\n",
       " 0.005294705294705295,\n",
       " 0.004995004995004995,\n",
       " 0.0043456543456543454,\n",
       " 0.003946053946053946,\n",
       " 0.001998001998001998,\n",
       " 0.002197802197802198,\n",
       " 0.0012487512487512488,\n",
       " 0.0012987012987012987,\n",
       " 0.0004995004995004995,\n",
       " 0.0006993006993006993,\n",
       " 0.0002997002997002997,\n",
       " 0.00014985014985014985,\n",
       " 0.0001998001998001998,\n",
       " 0.00024975024975024975,\n",
       " 9.99000999000999e-05,\n",
       " 4.995004995004995e-05,\n",
       " 4.995004995004995e-05,\n",
       " 4.995004995004995e-05,\n",
       " 0.0,\n",
       " 0,\n",
       " 0.0,\n",
       " 0.0]"
      ]
     },
     "execution_count": 30,
     "metadata": {},
     "output_type": "execute_result"
    }
   ],
   "source": [
    "uncoded_ldpc_belief_errors"
   ]
  },
  {
   "cell_type": "markdown",
   "metadata": {},
   "source": [
    "### New LDPC - Belief Propagation"
   ]
  },
  {
   "cell_type": "code",
   "execution_count": 14,
   "metadata": {},
   "outputs": [
    {
     "name": "stdout",
     "output_type": "stream",
     "text": [
      "\n",
      "Valor de N = 1002\n",
      "\n"
     ]
    }
   ],
   "source": [
    "n_groups = 5\n",
    "max_iter = 20\n",
    "Eb = 1\n",
    "dv_values = [3]\n",
    "dc_values = [6]\n",
    "\n",
    "for dv, dc in zip(dv_values, dc_values):\n",
    "    N1 = int(1000/dc) * dc\n",
    "    N2 = N1 + dc\n",
    "    if abs(N1 - 1000) < abs(N2 - 1000):\n",
    "        N = N1\n",
    "    else:\n",
    "        N = N2\n",
    "    print(f\"\\nValor de N = {N}\\n\")\n",
    "    N_bits = N * n_groups\n",
    "    R = 1 - dv/dc\n",
    "    snr_db_values_Ei = np.arange(0, 10.5, 0.5)\n",
    "    snr_db_values_Eb = [Ei_snr_db_to_Eb_snr_db(i, R) for i in snr_db_values_Ei]\n",
    "    N0_values = [N0_from_db_value(i, Eb) for i in snr_db_values_Eb]\n",
    "    original = np.zeros(N_bits)\n",
    "    info_bit_error_probas = []\n",
    "    uncoded_info_bit_error_probas = []\n",
    "    suffix = f\"R-{dc-dv}-{dc}\"\n",
    "\n",
    "    if not os.path.isfile(f\"ldpc_belief_errors_new_final2_{suffix}.pkl\"):\n",
    "        for N0 in N0_values:\n",
    "            system = LdpcBpskGaussianSystem(N0, Eb, dv, dc, N, max_iter)\n",
    "            decoded_bits_groups = []\n",
    "            uncoded_bits_groups = []\n",
    "            for i in tqdm(range(n_groups)):\n",
    "                decoded_bits_groups.append(system.apply_noise_and_decode()) \n",
    "                uncoded_bits_groups.append(system.get_uncoded_bits())\n",
    "            decoded_bits_groups = np.array(decoded_bits_groups)\n",
    "            uncoded_bits_groups = np.array(uncoded_bits_groups)\n",
    "            decoded = decoded_bits_groups.reshape(-1)\n",
    "            uncoded = uncoded_bits_groups.reshape(-1)\n",
    "            info_bit_error_proba = np.not_equal(original, decoded).sum()/len(original)\n",
    "            info_bit_error_probas.append(info_bit_error_proba)\n",
    "            uncoded_info_bit_error_proba = np.not_equal(original, uncoded).sum()/len(original)\n",
    "            uncoded_info_bit_error_probas.append(uncoded_info_bit_error_proba)\n",
    "            \n",
    "        ldpc_belief_errors_new = info_bit_error_probas\n",
    "        with open(f\"ldpc_belief_errors_new_final2_{suffix}.pkl\", \"wb\") as f:\n",
    "            pickle.dump(ldpc_belief_errors_new, f)\n",
    "    else:\n",
    "        with open(f\"ldpc_belief_errors_new_final2_{suffix}.pkl\", \"rb\") as f:\n",
    "            ldpc_belief_errors_new = pickle.load(f)"
   ]
  },
  {
   "cell_type": "markdown",
   "metadata": {},
   "source": [
    "### Plot"
   ]
  },
  {
   "cell_type": "code",
   "execution_count": 29,
   "metadata": {},
   "outputs": [
    {
     "data": {
      "image/png": "[encoded data removed]",
      "text/plain": [
       "<Figure size 640x480 with 1 Axes>"
      ]
     },
     "metadata": {},
     "output_type": "display_data"
    }
   ],
   "source": [
    "dv = 3\n",
    "dc = 6\n",
    "suffix = f\"R-{dc-dv}-{dc}\"\n",
    "with open(f\"ldpc_belief_errors_new_final2_{suffix}.pkl\", \"rb\") as f:\n",
    "    ldpc_belief_errors_new = pickle.load(f)\n",
    "snrs_db = np.arange(0, 10.5, 0.5)\n",
    "snr_db_values_Ei = np.arange(0, 10.5, 0.25)\n",
    "plt.plot(snr_db_values_Ei, uncoded_ldpc_belief_errors) \n",
    "plt.plot(snrs_db, hamming_errors)\n",
    "plt.plot(snrs_db, ldpc_bitflipping_errors)\n",
    "plt.plot(snr_db_values_Ei, ldpc_belief_errors)\n",
    "snr_db_values_Ei = np.arange(0, 10.5, 0.5)\n",
    "plt.plot(snr_db_values_Ei, ldpc_belief_errors_new)\n",
    "plt.yscale(\"log\")\n",
    "plt.legend([\"Uncoded BPSK\", \"Hamming\", \"LDPC Bit Flipping\", \"LDPC Belief Propagation R=4/7\", f\"LDPC Belief Propagation R={dc-dv}/{dc} (new code)\"], loc=\"upper right\")\n",
    "plt.xlabel(\"Ei/N0 (db)\")\n",
    "plt.ylabel(\"pb\")\n",
    "plt.xticks(np.arange(0, 11, 1))\n",
    "plt.savefig(\"all_comparison.png\")"
   ]
  },
  {
   "cell_type": "markdown",
   "metadata": {},
   "source": [
    "### Graph representation for new ldpc code"
   ]
  },
  {
   "cell_type": "code",
   "execution_count": 16,
   "metadata": {},
   "outputs": [],
   "source": [
    "from ldpc_bpsk_gaussian_system import generate_ldpc_csv\n",
    "N = 1002\n",
    "dv = 3\n",
    "dc = 6\n",
    "#max_iter = 20\n",
    "#n_groups = 5\n",
    "#Eb = 1\n",
    "generate_ldpc_csv(dv, dc, N, \"new_ldpc_code_graph.csv\")"
   ]
  },
  {
   "cell_type": "code",
   "execution_count": null,
   "metadata": {},
   "outputs": [],
   "source": []
  }
 ],
 "metadata": {
  "kernelspec": {
   "display_name": "data-science",
   "language": "python",
   "name": "python3"
  },
  "language_info": {
   "codemirror_mode": {
    "name": "ipython",
    "version": 3
   },
   "file_extension": ".py",
   "mimetype": "text/x-python",
   "name": "python",
   "nbconvert_exporter": "python",
   "pygments_lexer": "ipython3",
   "version": "3.11.4"
  }
 },
 "nbformat": 4,
 "nbformat_minor": 2
}
