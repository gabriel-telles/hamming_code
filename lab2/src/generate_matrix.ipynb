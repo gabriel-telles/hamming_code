{
 "cells": [
  {
   "cell_type": "code",
   "execution_count": 1,
   "metadata": {},
   "outputs": [],
   "source": [
    "import numpy as np\n",
    "from copy import deepcopy\n",
    "from bsc_channel import BSCChannel\n",
    "from generate_matrices import generate_parity_matrix\n",
    "from ldpc_decoder import LdpcDecoder"
   ]
  },
  {
   "cell_type": "code",
   "execution_count": 5,
   "metadata": {},
   "outputs": [],
   "source": [
    "N = 98\n",
    "dv = 3\n",
    "dc = 7\n",
    "decoder = LdpcDecoder(generate_parity_matrix(dv, dc, N))\n",
    "bits = np.array([0]*N).astype(int)\n",
    "channel = BSCChannel(p=0.05)\n",
    "bits = channel.change_bits(bits)\n",
    "channel_bits = deepcopy(bits)\n",
    "bits = decoder.decode(bits, 1000)"
   ]
  },
  {
   "cell_type": "code",
   "execution_count": null,
   "metadata": {},
   "outputs": [],
   "source": []
  }
 ],
 "metadata": {
  "kernelspec": {
   "display_name": "data-science",
   "language": "python",
   "name": "python3"
  },
  "language_info": {
   "codemirror_mode": {
    "name": "ipython",
    "version": 3
   },
   "file_extension": ".py",
   "mimetype": "text/x-python",
   "name": "python",
   "nbconvert_exporter": "python",
   "pygments_lexer": "ipython3",
   "version": "3.11.4"
  }
 },
 "nbformat": 4,
 "nbformat_minor": 2
}
